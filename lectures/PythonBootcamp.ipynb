{
 "cells": [
  {
   "cell_type": "markdown",
   "metadata": {},
   "source": [
    "# The python exercises\n",
    "\n",
    "**Ex 0**: The Jupyter Notebooks are organized as a list of cells. There are two central kinds of cells, they are called **Code** and **Markdown**. The cell type can be set [using a keyboard shortcut](https://towardsdatascience.com/jypyter-notebook-shortcuts-bf0101a98330), or using the menu above.\n",
    "\n",
    "The **Code** cells simply contain the Python code, no big deal.\n",
    "\n",
    "The **Markdown** cells contain text (explanations, sections, etc). The text is written in Markdown. Markdown allows you to write using an easy-to-read, easy-to-write plain text format, then convert it to structurally valid XHTML (or HTML). You can read about it here:\n",
    "\n",
    "http://daringfireball.net/projects/markdown/\n",
    "\n",
    "In the cell below, write a short text that demonstrates that you can\n",
    "* Create a section\n",
    "* Write words in bold and italics\n",
    "* Create lists\n",
    "* Establish a [hyperlink](https://en.wikipedia.org/wiki/Hyperlink)"
   ]
  },
  {
   "cell_type": "markdown",
   "metadata": {},
   "source": [
    "*[Write the answer to **Ex 0** here]*"
   ]
  },
  {
   "cell_type": "markdown",
   "metadata": {},
   "source": [
    "**Ex 1**: Create a list `a` that contains the numbers from $1$ to $1110$, incremented by one, using the `range` function."
   ]
  },
  {
   "cell_type": "code",
   "execution_count": 13,
   "metadata": {
    "collapsed": true
   },
   "outputs": [
    {
     "name": "stdout",
     "output_type": "stream",
     "text": [
      "[1, 2, 3, 4, 5, 6, 7, 8, 9, 10, 11, 12, 13, 14, 15, 16, 17, 18, 19, 20, 21, 22, 23, 24, 25, 26, 27, 28, 29, 30, 31, 32, 33, 34, 35, 36, 37, 38, 39, 40, 41, 42, 43, 44, 45, 46, 47, 48, 49, 50, 51, 52, 53, 54, 55, 56, 57, 58, 59, 60, 61, 62, 63, 64, 65, 66, 67, 68, 69, 70, 71, 72, 73, 74, 75, 76, 77, 78, 79, 80, 81, 82, 83, 84, 85, 86, 87, 88, 89, 90, 91, 92, 93, 94, 95, 96, 97, 98, 99, 100, 101, 102, 103, 104, 105, 106, 107, 108, 109, 110, 111, 112, 113, 114, 115, 116, 117, 118, 119, 120, 121, 122, 123, 124, 125, 126, 127, 128, 129, 130, 131, 132, 133, 134, 135, 136, 137, 138, 139, 140, 141, 142, 143, 144, 145, 146, 147, 148, 149, 150, 151, 152, 153, 154, 155, 156, 157, 158, 159, 160, 161, 162, 163, 164, 165, 166, 167, 168, 169, 170, 171, 172, 173, 174, 175, 176, 177, 178, 179, 180, 181, 182, 183, 184, 185, 186, 187, 188, 189, 190, 191, 192, 193, 194, 195, 196, 197, 198, 199, 200, 201, 202, 203, 204, 205, 206, 207, 208, 209, 210, 211, 212, 213, 214, 215, 216, 217, 218, 219, 220, 221, 222, 223, 224, 225, 226, 227, 228, 229, 230, 231, 232, 233, 234, 235, 236, 237, 238, 239, 240, 241, 242, 243, 244, 245, 246, 247, 248, 249, 250, 251, 252, 253, 254, 255, 256, 257, 258, 259, 260, 261, 262, 263, 264, 265, 266, 267, 268, 269, 270, 271, 272, 273, 274, 275, 276, 277, 278, 279, 280, 281, 282, 283, 284, 285, 286, 287, 288, 289, 290, 291, 292, 293, 294, 295, 296, 297, 298, 299, 300, 301, 302, 303, 304, 305, 306, 307, 308, 309, 310, 311, 312, 313, 314, 315, 316, 317, 318, 319, 320, 321, 322, 323, 324, 325, 326, 327, 328, 329, 330, 331, 332, 333, 334, 335, 336, 337, 338, 339, 340, 341, 342, 343, 344, 345, 346, 347, 348, 349, 350, 351, 352, 353, 354, 355, 356, 357, 358, 359, 360, 361, 362, 363, 364, 365, 366, 367, 368, 369, 370, 371, 372, 373, 374, 375, 376, 377, 378, 379, 380, 381, 382, 383, 384, 385, 386, 387, 388, 389, 390, 391, 392, 393, 394, 395, 396, 397, 398, 399, 400, 401, 402, 403, 404, 405, 406, 407, 408, 409, 410, 411, 412, 413, 414, 415, 416, 417, 418, 419, 420, 421, 422, 423, 424, 425, 426, 427, 428, 429, 430, 431, 432, 433, 434, 435, 436, 437, 438, 439, 440, 441, 442, 443, 444, 445, 446, 447, 448, 449, 450, 451, 452, 453, 454, 455, 456, 457, 458, 459, 460, 461, 462, 463, 464, 465, 466, 467, 468, 469, 470, 471, 472, 473, 474, 475, 476, 477, 478, 479, 480, 481, 482, 483, 484, 485, 486, 487, 488, 489, 490, 491, 492, 493, 494, 495, 496, 497, 498, 499, 500, 501, 502, 503, 504, 505, 506, 507, 508, 509, 510, 511, 512, 513, 514, 515, 516, 517, 518, 519, 520, 521, 522, 523, 524, 525, 526, 527, 528, 529, 530, 531, 532, 533, 534, 535, 536, 537, 538, 539, 540, 541, 542, 543, 544, 545, 546, 547, 548, 549, 550, 551, 552, 553, 554, 555, 556, 557, 558, 559, 560, 561, 562, 563, 564, 565, 566, 567, 568, 569, 570, 571, 572, 573, 574, 575, 576, 577, 578, 579, 580, 581, 582, 583, 584, 585, 586, 587, 588, 589, 590, 591, 592, 593, 594, 595, 596, 597, 598, 599, 600, 601, 602, 603, 604, 605, 606, 607, 608, 609, 610, 611, 612, 613, 614, 615, 616, 617, 618, 619, 620, 621, 622, 623, 624, 625, 626, 627, 628, 629, 630, 631, 632, 633, 634, 635, 636, 637, 638, 639, 640, 641, 642, 643, 644, 645, 646, 647, 648, 649, 650, 651, 652, 653, 654, 655, 656, 657, 658, 659, 660, 661, 662, 663, 664, 665, 666, 667, 668, 669, 670, 671, 672, 673, 674, 675, 676, 677, 678, 679, 680, 681, 682, 683, 684, 685, 686, 687, 688, 689, 690, 691, 692, 693, 694, 695, 696, 697, 698, 699, 700, 701, 702, 703, 704, 705, 706, 707, 708, 709, 710, 711, 712, 713, 714, 715, 716, 717, 718, 719, 720, 721, 722, 723, 724, 725, 726, 727, 728, 729, 730, 731, 732, 733, 734, 735, 736, 737, 738, 739, 740, 741, 742, 743, 744, 745, 746, 747, 748, 749, 750, 751, 752, 753, 754, 755, 756, 757, 758, 759, 760, 761, 762, 763, 764, 765, 766, 767, 768, 769, 770, 771, 772, 773, 774, 775, 776, 777, 778, 779, 780, 781, 782, 783, 784, 785, 786, 787, 788, 789, 790, 791, 792, 793, 794, 795, 796, 797, 798, 799, 800, 801, 802, 803, 804, 805, 806, 807, 808, 809, 810, 811, 812, 813, 814, 815, 816, 817, 818, 819, 820, 821, 822, 823, 824, 825, 826, 827, 828, 829, 830, 831, 832, 833, 834, 835, 836, 837, 838, 839, 840, 841, 842, 843, 844, 845, 846, 847, 848, 849, 850, 851, 852, 853, 854, 855, 856, 857, 858, 859, 860, 861, 862, 863, 864, 865, 866, 867, 868, 869, 870, 871, 872, 873, 874, 875, 876, 877, 878, 879, 880, 881, 882, 883, 884, 885, 886, 887, 888, 889, 890, 891, 892, 893, 894, 895, 896, 897, 898, 899, 900, 901, 902, 903, 904, 905, 906, 907, 908, 909, 910, 911, 912, 913, 914, 915, 916, 917, 918, 919, 920, 921, 922, 923, 924, 925, 926, 927, 928, 929, 930, 931, 932, 933, 934, 935, 936, 937, 938, 939, 940, 941, 942, 943, 944, 945, 946, 947, 948, 949, 950, 951, 952, 953, 954, 955, 956, 957, 958, 959, 960, 961, 962, 963, 964, 965, 966, 967, 968, 969, 970, 971, 972, 973, 974, 975, 976, 977, 978, 979, 980, 981, 982, 983, 984, 985, 986, 987, 988, 989, 990, 991, 992, 993, 994, 995, 996, 997, 998, 999, 1000, 1001, 1002, 1003, 1004, 1005, 1006, 1007, 1008, 1009, 1010, 1011, 1012, 1013, 1014, 1015, 1016, 1017, 1018, 1019, 1020, 1021, 1022, 1023, 1024, 1025, 1026, 1027, 1028, 1029, 1030, 1031, 1032, 1033, 1034, 1035, 1036, 1037, 1038, 1039, 1040, 1041, 1042, 1043, 1044, 1045, 1046, 1047, 1048, 1049, 1050, 1051, 1052, 1053, 1054, 1055, 1056, 1057, 1058, 1059, 1060, 1061, 1062, 1063, 1064, 1065, 1066, 1067, 1068, 1069, 1070, 1071, 1072, 1073, 1074, 1075, 1076, 1077, 1078, 1079, 1080, 1081, 1082, 1083, 1084, 1085, 1086, 1087, 1088, 1089, 1090, 1091, 1092, 1093, 1094, 1095, 1096, 1097, 1098, 1099, 1100, 1101, 1102, 1103, 1104, 1105, 1106, 1107, 1108, 1109]\n"
     ]
    }
   ],
   "source": [
    "a = list(range(1, 1110))\n",
    "print(a)"
   ]
  },
  {
   "cell_type": "markdown",
   "metadata": {},
   "source": [
    "**Ex 2**: Show that you understand [slicing](http://stackoverflow.com/questions/509211/explain-pythons-slice-notation) in Python by extracting a list `b` with the numbers from $543$ to $779$ from the list created above."
   ]
  },
  {
   "cell_type": "code",
   "execution_count": 14,
   "metadata": {
    "collapsed": true
   },
   "outputs": [
    {
     "name": "stdout",
     "output_type": "stream",
     "text": [
      "[544, 545, 546, 547, 548, 549, 550, 551, 552, 553, 554, 555, 556, 557, 558, 559, 560, 561, 562, 563, 564, 565, 566, 567, 568, 569, 570, 571, 572, 573, 574, 575, 576, 577, 578, 579, 580, 581, 582, 583, 584, 585, 586, 587, 588, 589, 590, 591, 592, 593, 594, 595, 596, 597, 598, 599, 600, 601, 602, 603, 604, 605, 606, 607, 608, 609, 610, 611, 612, 613, 614, 615, 616, 617, 618, 619, 620, 621, 622, 623, 624, 625, 626, 627, 628, 629, 630, 631, 632, 633, 634, 635, 636, 637, 638, 639, 640, 641, 642, 643, 644, 645, 646, 647, 648, 649, 650, 651, 652, 653, 654, 655, 656, 657, 658, 659, 660, 661, 662, 663, 664, 665, 666, 667, 668, 669, 670, 671, 672, 673, 674, 675, 676, 677, 678, 679, 680, 681, 682, 683, 684, 685, 686, 687, 688, 689, 690, 691, 692, 693, 694, 695, 696, 697, 698, 699, 700, 701, 702, 703, 704, 705, 706, 707, 708, 709, 710, 711, 712, 713, 714, 715, 716, 717, 718, 719, 720, 721, 722, 723, 724, 725, 726, 727, 728, 729, 730, 731, 732, 733, 734, 735, 736, 737, 738, 739, 740, 741, 742, 743, 744, 745, 746, 747, 748, 749, 750, 751, 752, 753, 754, 755, 756, 757, 758, 759, 760, 761, 762, 763, 764, 765, 766, 767, 768, 769, 770, 771, 772, 773, 774, 775, 776, 777, 778, 779]\n"
     ]
    }
   ],
   "source": [
    "b = a[543:779]\n",
    "print(b)"
   ]
  },
  {
   "cell_type": "markdown",
   "metadata": {},
   "source": [
    "**Ex 3**: Using `def`, define a function that takes as input a number $x$ and outputs the number multiplied by itself plus three $f(x) = x(x+3)$. "
   ]
  },
  {
   "cell_type": "code",
   "execution_count": 15,
   "metadata": {
    "collapsed": true
   },
   "outputs": [],
   "source": [
    "def func(x):\n",
    "    return x * (x + 3)"
   ]
  },
  {
   "cell_type": "markdown",
   "metadata": {},
   "source": [
    "**Ex 4**: Apply this function to every element of the list `b` using a `for` loop. "
   ]
  },
  {
   "cell_type": "code",
   "execution_count": 16,
   "metadata": {
    "collapsed": true
   },
   "outputs": [
    {
     "name": "stdout",
     "output_type": "stream",
     "text": [
      "[297568, 298660, 299754, 300850, 301948, 303048, 304150, 305254, 306360, 307468, 308578, 309690, 310804, 311920, 313038, 314158, 315280, 316404, 317530, 318658, 319788, 320920, 322054, 323190, 324328, 325468, 326610, 327754, 328900, 330048, 331198, 332350, 333504, 334660, 335818, 336978, 338140, 339304, 340470, 341638, 342808, 343980, 345154, 346330, 347508, 348688, 349870, 351054, 352240, 353428, 354618, 355810, 357004, 358200, 359398, 360598, 361800, 363004, 364210, 365418, 366628, 367840, 369054, 370270, 371488, 372708, 373930, 375154, 376380, 377608, 378838, 380070, 381304, 382540, 383778, 385018, 386260, 387504, 388750, 389998, 391248, 392500, 393754, 395010, 396268, 397528, 398790, 400054, 401320, 402588, 403858, 405130, 406404, 407680, 408958, 410238, 411520, 412804, 414090, 415378, 416668, 417960, 419254, 420550, 421848, 423148, 424450, 425754, 427060, 428368, 429678, 430990, 432304, 433620, 434938, 436258, 437580, 438904, 440230, 441558, 442888, 444220, 445554, 446890, 448228, 449568, 450910, 452254, 453600, 454948, 456298, 457650, 459004, 460360, 461718, 463078, 464440, 465804, 467170, 468538, 469908, 471280, 472654, 474030, 475408, 476788, 478170, 479554, 480940, 482328, 483718, 485110, 486504, 487900, 489298, 490698, 492100, 493504, 494910, 496318, 497728, 499140, 500554, 501970, 503388, 504808, 506230, 507654, 509080, 510508, 511938, 513370, 514804, 516240, 517678, 519118, 520560, 522004, 523450, 524898, 526348, 527800, 529254, 530710, 532168, 533628, 535090, 536554, 538020, 539488, 540958, 542430, 543904, 545380, 546858, 548338, 549820, 551304, 552790, 554278, 555768, 557260, 558754, 560250, 561748, 563248, 564750, 566254, 567760, 569268, 570778, 572290, 573804, 575320, 576838, 578358, 579880, 581404, 582930, 584458, 585988, 587520, 589054, 590590, 592128, 593668, 595210, 596754, 598300, 599848, 601398, 602950, 604504, 606060, 607618, 609178]\n"
     ]
    }
   ],
   "source": [
    "new_lst = [] \n",
    "for ele in b:\n",
    "    new_lst.append(func(ele))\n",
    "\n",
    "print(new_lst)\n"
   ]
  },
  {
   "cell_type": "markdown",
   "metadata": {},
   "source": [
    "**Ex 5**: Do the same thing using a list comprehension."
   ]
  },
  {
   "cell_type": "code",
   "execution_count": 17,
   "metadata": {
    "collapsed": true
   },
   "outputs": [
    {
     "name": "stdout",
     "output_type": "stream",
     "text": [
      "[297568, 298660, 299754, 300850, 301948, 303048, 304150, 305254, 306360, 307468, 308578, 309690, 310804, 311920, 313038, 314158, 315280, 316404, 317530, 318658, 319788, 320920, 322054, 323190, 324328, 325468, 326610, 327754, 328900, 330048, 331198, 332350, 333504, 334660, 335818, 336978, 338140, 339304, 340470, 341638, 342808, 343980, 345154, 346330, 347508, 348688, 349870, 351054, 352240, 353428, 354618, 355810, 357004, 358200, 359398, 360598, 361800, 363004, 364210, 365418, 366628, 367840, 369054, 370270, 371488, 372708, 373930, 375154, 376380, 377608, 378838, 380070, 381304, 382540, 383778, 385018, 386260, 387504, 388750, 389998, 391248, 392500, 393754, 395010, 396268, 397528, 398790, 400054, 401320, 402588, 403858, 405130, 406404, 407680, 408958, 410238, 411520, 412804, 414090, 415378, 416668, 417960, 419254, 420550, 421848, 423148, 424450, 425754, 427060, 428368, 429678, 430990, 432304, 433620, 434938, 436258, 437580, 438904, 440230, 441558, 442888, 444220, 445554, 446890, 448228, 449568, 450910, 452254, 453600, 454948, 456298, 457650, 459004, 460360, 461718, 463078, 464440, 465804, 467170, 468538, 469908, 471280, 472654, 474030, 475408, 476788, 478170, 479554, 480940, 482328, 483718, 485110, 486504, 487900, 489298, 490698, 492100, 493504, 494910, 496318, 497728, 499140, 500554, 501970, 503388, 504808, 506230, 507654, 509080, 510508, 511938, 513370, 514804, 516240, 517678, 519118, 520560, 522004, 523450, 524898, 526348, 527800, 529254, 530710, 532168, 533628, 535090, 536554, 538020, 539488, 540958, 542430, 543904, 545380, 546858, 548338, 549820, 551304, 552790, 554278, 555768, 557260, 558754, 560250, 561748, 563248, 564750, 566254, 567760, 569268, 570778, 572290, 573804, 575320, 576838, 578358, 579880, 581404, 582930, 584458, 585988, 587520, 589054, 590590, 592128, 593668, 595210, 596754, 598300, 599848, 601398, 602950, 604504, 606060, 607618, 609178]\n"
     ]
    }
   ],
   "source": [
    "new_lst2 = [ func(ele) for ele in b ]\n",
    "print(new_lst2)"
   ]
  },
  {
   "cell_type": "markdown",
   "metadata": {},
   "source": [
    "**Ex 6**: Write the output of your function to a text file with one number per line."
   ]
  },
  {
   "cell_type": "code",
   "execution_count": 18,
   "metadata": {
    "collapsed": true
   },
   "outputs": [],
   "source": [
    "with open('res/output.txt', 'w', encoding='utf-8') as f:\n",
    "    for a in new_lst2:\n",
    "        f.write(f'{a}\\n')\n",
    "\n",
    "\n",
    "f.close()"
   ]
  },
  {
   "cell_type": "markdown",
   "metadata": {},
   "source": [
    "**Ex 7**: Show that you know about strings using this example from https://learnpythonthehardway.org/python3/ex6.html (code reproduced below).\n",
    "\n",
    "1. Go through the code below and write a code comment above each line explaining it.\n",
    "1. Find all the places where a string is put inside a string. There are four places.\n",
    "1. Are you sure there are only four places? How do you know? Maybe I like lying.\n",
    "1. Explain why adding the two strings w and e with + makes a longer string.\n",
    "\n",
    "\n",
    "[**Hint**: If you feel this is too complex, try completing the prior learningthehardway exercises first. Start [here](https://learnpythonthehardway.org/python3/). "
   ]
  },
  {
   "cell_type": "code",
   "execution_count": 19,
   "metadata": {},
   "outputs": [
    {
     "name": "stdout",
     "output_type": "stream",
     "text": [
      "There are 10 types of people.\n",
      "Those who know binary and those who don't.\n",
      "I said: There are 10 types of people.\n",
      "I also said: 'Those who know binary and those who don't.'\n",
      "Isn't that joke so funny?! False\n",
      "This is the left side of...a string with a right side.\n"
     ]
    }
   ],
   "source": [
    "# Note from Sune: In Python, code comments follow the \"#\" character\n",
    "\n",
    "# assign the int 10 to the variable types of people\n",
    "types_of_people = 10\n",
    "# 1st string\n",
    "x = f\"There are {types_of_people} types of people.\"\n",
    "\n",
    "# 2nd string\n",
    "binary = \"binary\"\n",
    "# 3rd string\n",
    "do_not = \"don't\"\n",
    "# 4th\n",
    "y = f\"Those who know {binary} and those who {do_not}.\"\n",
    "\n",
    "print(x)\n",
    "print(y)\n",
    "\n",
    "print(f\"I said: {x}\")\n",
    "print(f\"I also said: '{y}'\")\n",
    "\n",
    "hilarious = False\n",
    "# 5th string\n",
    "joke_evaluation = \"Isn't that joke so funny?! {}\"\n",
    "\n",
    "print(joke_evaluation.format(hilarious))\n",
    "\n",
    "# 6th string\n",
    "w = \"This is the left side of...\"\n",
    "# 7th string\n",
    "e = \"a string with a right side.\"\n",
    "\n",
    "# concatenate and print the strings\n",
    "print(w + e)"
   ]
  },
  {
   "cell_type": "markdown",
   "metadata": {},
   "source": [
    "*[Write the answer to **Ex 7**, 2-4 here]*\n",
    "\n",
    "2. There are actualy 5 places, but the 5th place is an empty string\n",
    "3. See above\n",
    "4. Because we are concatenating two strings together"
   ]
  },
  {
   "cell_type": "markdown",
   "metadata": {},
   "source": [
    "**Ex 8**: First, learn about JSON by reading the **[wikipedia page](https://en.wikipedia.org/wiki/JSON)**. Then answer the following two questions in the cell below. \n",
    "\n",
    "* What is `json`? What do the letters stand for?\n",
    "* Why is `json` superior to `xml`? (... or why not?)"
   ]
  },
  {
   "cell_type": "markdown",
   "metadata": {},
   "source": [
    "*[Write your answer to **Ex 8** here]*\n",
    "\n",
    "1. A data interchangeable object. It is a way to represent data in a structured matter. Stands for JavaScript Object Notation\n",
    "2. Wouldn't say it's superior neccessarily, it's another way of working with data in a structured matter. I think it's more readable than .xml, but .xml can be powerfull for other purposes. .xml allows the use of tags, while .json is more like a dictionary-like of representation of data"
   ]
  },
  {
   "cell_type": "markdown",
   "metadata": {},
   "source": [
    "**Ex 9a**: Use the `json` module (instructions on usage here: https://docs.python.org/3/library/json.html). \n",
    "\n",
    "First use `urllib` (https://docs.python.org/3/library/urllib.html), or another Python library, to download **[this file](https://raw.githubusercontent.com/suneman/socialdata2022/main/files/test.json)**. \n",
    "\n",
    "The downloaded file is a string when you first download it, but you can use the `json` library to \"load\" the string and decode it to a Python object, using `json.loads()`. (The decoded string is a python object, a list with a single element, a dictionary (with nested dictionaries inside it))."
   ]
  },
  {
   "cell_type": "code",
   "execution_count": 20,
   "metadata": {
    "collapsed": true
   },
   "outputs": [
    {
     "data": {
      "text/plain": [
       "('res/test.json', <http.client.HTTPMessage at 0x1059ab950>)"
      ]
     },
     "execution_count": 20,
     "metadata": {},
     "output_type": "execute_result"
    }
   ],
   "source": [
    "import json\n",
    "import urllib.parse\n",
    "import urllib.request\n",
    "\n",
    "urllib.request.urlretrieve('https://raw.githubusercontent.com/suneman/socialdata2022/main/files/test.json', filename=\"res/test.json\")\n",
    "\n"
   ]
  },
  {
   "cell_type": "markdown",
   "metadata": {},
   "source": [
    "**Ex 9b**: Now, let's take a look at the file you downloaded. First, just write the name of the variable that contains the decoded file content and hit enter to take a look at it. It's  the list of Twitter Trending topics, a few days ago."
   ]
  },
  {
   "cell_type": "code",
   "execution_count": 21,
   "metadata": {},
   "outputs": [
    {
     "name": "stdout",
     "output_type": "stream",
     "text": [
      "[{'created_at': '2015-08-24T08:32:44Z', 'trends': [{'url': 'http://twitter.com/search?q=%23rfcvff', 'query': '%23rfcvff', 'name': '#rfcvff', 'promoted_content': None}, {'url': 'http://twitter.com/search?q=%23EFBFCM', 'query': '%23EFBFCM', 'name': '#EFBFCM', 'promoted_content': None}, {'url': 'http://twitter.com/search?q=%23bifsje', 'query': '%23bifsje', 'name': '#bifsje', 'promoted_content': None}, {'url': 'http://twitter.com/search?q=nordstrand', 'query': 'nordstrand', 'name': 'nordstrand', 'promoted_content': None}, {'url': 'http://twitter.com/search?q=%23WhyILoveLiam', 'query': '%23WhyILoveLiam', 'name': '#WhyILoveLiam', 'promoted_content': None}, {'url': 'http://twitter.com/search?q=%23lv2015', 'query': '%23lv2015', 'name': '#lv2015', 'promoted_content': None}, {'url': 'http://twitter.com/search?q=%22Harald+Nielsen%22', 'query': '%22Harald+Nielsen%22', 'name': 'Harald Nielsen', 'promoted_content': None}, {'url': 'http://twitter.com/search?q=Fnatic', 'query': 'Fnatic', 'name': 'Fnatic', 'promoted_content': None}, {'url': 'http://twitter.com/search?q=Nash', 'query': 'Nash', 'name': 'Nash', 'promoted_content': None}, {'url': 'http://twitter.com/search?q=kjeldsen', 'query': 'kjeldsen', 'name': 'kjeldsen', 'promoted_content': None}], 'as_of': '2015-08-24T08:36:54Z', 'locations': [{'woeid': 23424796, 'name': 'Denmark'}]}]\n",
      "1\n"
     ]
    }
   ],
   "source": [
    "\n",
    "with open('res/test.json', 'r') as file:\n",
    "    data = json.load(file)\n",
    "\n",
    "print(data)\n",
    "print(len(data))"
   ]
  },
  {
   "cell_type": "markdown",
   "metadata": {},
   "source": [
    "**Ex 9c**: The thing you've just decoded is now a list of length 1. What are the names of the keys organizing the dictionary at position 0 in the list? (Just write the code to produce the answer.) \n",
    "\n",
    "**Hint** use the `.keys()` method to easily get the keys of any dictionary."
   ]
  },
  {
   "cell_type": "code",
   "execution_count": 22,
   "metadata": {
    "collapsed": true
   },
   "outputs": [
    {
     "name": "stdout",
     "output_type": "stream",
     "text": [
      "dict_keys(['created_at', 'trends', 'as_of', 'locations'])\n"
     ]
    }
   ],
   "source": [
    "print(data[0].keys())"
   ]
  },
  {
   "cell_type": "markdown",
   "metadata": {},
   "source": [
    "**Ex 9d**: Two small questions \n",
    "* What time did I create the list of Trending Topics?\n",
    "* Print the names of the trending topics (bonus for using a list comprehension)\n",
    "\n",
    "(Just write the code to produce the answer.)"
   ]
  },
  {
   "cell_type": "code",
   "execution_count": 23,
   "metadata": {
    "collapsed": true
   },
   "outputs": [
    {
     "name": "stdout",
     "output_type": "stream",
     "text": [
      "2015-08-24T08:32:44Z\n"
     ]
    }
   ],
   "source": [
    "print(data[0]['created_at'])"
   ]
  },
  {
   "cell_type": "markdown",
   "metadata": {},
   "source": [
    "# Panda"
   ]
  },
  {
   "cell_type": "code",
   "execution_count": 24,
   "metadata": {},
   "outputs": [
    {
     "name": "stdout",
     "output_type": "stream",
     "text": [
      "0    1.0\n",
      "1    2.0\n",
      "2    NaN\n",
      "3    4.0\n",
      "4    5.0\n",
      "dtype: float64\n",
      "DatetimeIndex(['2024-01-05', '2024-01-06', '2024-01-07', '2024-01-08',\n",
      "               '2024-01-09', '2024-01-10'],\n",
      "              dtype='datetime64[ns]', freq='D')\n",
      "                   A         B         C         D\n",
      "2024-01-05 -0.053603 -0.913107 -0.501772  0.300896\n",
      "2024-01-06 -0.687432 -0.061978  0.912083  1.873851\n",
      "2024-01-07 -0.502538  0.530251  0.824824 -0.293173\n",
      "2024-01-08  0.510488 -0.079777 -1.651879  0.197382\n",
      "2024-01-09 -0.443234  0.366486 -1.203404 -1.184517\n",
      "2024-01-10  0.931921  0.637096 -1.821121  0.573440\n"
     ]
    }
   ],
   "source": [
    "import numpy as np\n",
    "import pandas as pd\n",
    "\n",
    "s = pd.Series([1, 2, np.nan, 4, 5])\n",
    "\n",
    "print(s)\n",
    "\n",
    "dates = pd.date_range('20240105', periods=6)\n",
    "print(dates)\n",
    "\n",
    "rand = pd.DataFrame(np.random.randn(6, 4), index=dates, columns=list('ABCD'))\n",
    "\n",
    "print(rand)"
   ]
  }
 ],
 "metadata": {
  "anaconda-cloud": {},
  "kernelspec": {
   "display_name": "social-datavis",
   "language": "python",
   "name": "python3"
  },
  "language_info": {
   "codemirror_mode": {
    "name": "ipython",
    "version": 3
   },
   "file_extension": ".py",
   "mimetype": "text/x-python",
   "name": "python",
   "nbconvert_exporter": "python",
   "pygments_lexer": "ipython3",
   "version": "3.13.1"
  }
 },
 "nbformat": 4,
 "nbformat_minor": 1
}
