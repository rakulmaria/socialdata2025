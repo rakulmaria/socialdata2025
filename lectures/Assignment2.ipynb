{
 "cells": [
  {
   "cell_type": "markdown",
   "metadata": {},
   "source": [
    "# Assignment 2\n",
    "\n",
    "## Formalia:\n",
    "\n",
    "Please read the [assignment overview page](https://github.com/suneman/socialdata2025/wiki/Assignments) carefully before proceeding. This page contains information about formatting (including formats etc.), group sizes, and many other aspects of handing in the assignment. \n",
    "\n",
    "_If you fail to follow these simple instructions, it will negatively impact your grade!_\n",
    "\n",
    "**Due date and time**: \n",
    " - The assignment is due on Monday March 31st, 2025 at 23:55. \n",
    " - Hand via DTU Learn. \n",
    " - You should simply hand in the link to the github page with your short data story."
   ]
  },
  {
   "cell_type": "markdown",
   "metadata": {},
   "source": [
    "## A2: A short data story\n",
    "\n",
    "This assignment is to create a short data-story based on the work we've done in class so far. See **Exercises Week 8, Part 2** for full details on how the story should be constructed."
   ]
  },
  {
   "cell_type": "code",
   "execution_count": 147,
   "metadata": {},
   "outputs": [],
   "source": [
    "# packages\n",
    "import utils\n",
    "from bokeh.plotting import show, output_file\n",
    "from bokeh.models import ColumnDataSource, FactorRange\n",
    "import matplotlib.pyplot as plt\n",
    "from urllib.request import urlopen\n",
    "import json\n",
    "import plotly.express as px\n",
    "import plotly.io as pio"
   ]
  },
  {
   "cell_type": "code",
   "execution_count": 148,
   "metadata": {},
   "outputs": [],
   "source": [
    "df = utils.get_df_focused_crimes()\n",
    "df_burglary = df[(df[\"Category\"] == \"BURGLARY\")]\n",
    "df_burglary = df_burglary[df_burglary[\"Year\"] != 2025] # remove 2025"
   ]
  },
  {
   "cell_type": "code",
   "execution_count": 149,
   "metadata": {},
   "outputs": [
    {
     "name": "stdout",
     "output_type": "stream",
     "text": []
    }
   ],
   "source": [
    "df_yrs = df_burglary.value_counts(\"Year\")\n",
    "df_yrs = df_yrs.sort_index()\n",
    "df_yrs.head()\n",
    "\n",
    "plt.style.use('ggplot')\n",
    "plt.rcParams[\"font.family\"] = \"monospace\"\n",
    "plt.figure(figsize=(12, 6))  # Set figure size\n",
    "\n",
    "df_yrs.plot(kind=\"bar\", title=\"Burglary incidents reported in San Fransisco\\n2003 - 2024\")\n",
    "plt.xlabel(\"Year\", fontsize=12)\n",
    "plt.ylabel(\"Number of Incidents\", fontsize=12)\n",
    "#plt.grid(axis=\"y\", linestyle=\"--\", alpha=0.7)\n",
    "plt.show()\n",
    "\n"
   ]
  },
  {
   "cell_type": "code",
   "execution_count": 150,
   "metadata": {},
   "outputs": [
    {
     "name": "stdout",
     "output_type": "stream",
     "text": []
    }
   ],
   "source": [
    "df_yrs"
   ]
  },
  {
   "cell_type": "code",
   "execution_count": 151,
   "metadata": {},
   "outputs": [],
   "source": [
    "# reading the geojson file\n",
    "with urlopen('https://raw.githubusercontent.com/suneman/socialdata2025/main/files/sfpd.geojson') as response:\n",
    "    data = json.load(response)"
   ]
  },
  {
   "cell_type": "code",
   "execution_count": 175,
   "metadata": {},
   "outputs": [],
   "source": [
    "import os\n",
    "from uuid import uuid4  # To generated a new random directory for each notebook\n",
    "\n",
    "import plotly.io as pio\n",
    "from plotly.io._base_renderers import IFrameRenderer\n",
    "\n",
    "pio.renderers[\"custom\"] = IFrameRenderer(\n",
    "    html_directory=os.path.join(\"../assets/notebooks\", \"html_\" + str(uuid4())),\n",
    "    include_plotlyjs=\"cdn\",\n",
    ")\n",
    "\n",
    "pio.renderers.default = \"custom\""
   ]
  },
  {
   "cell_type": "code",
   "execution_count": 152,
   "metadata": {},
   "outputs": [
    {
     "name": "stdout",
     "output_type": "stream",
     "text": []
    }
   ],
   "source": [
    "# Filter dataset for relevant years\n",
    "df_burglary_sorted = df_burglary.sort_values(\"FullDate\")\n",
    "df_aggregated = df_burglary_sorted[df_burglary_sorted[\"Year\"] >= 2019]\n",
    "\n",
    "# Get unique years\n",
    "years = sorted(df_aggregated[\"Year\"].unique())\n",
    "\n",
    "# Compute baseline (2019) crime counts\n",
    "df_initial = df_aggregated[df_aggregated[\"Year\"] == 2019].groupby('PdDistrict').size().reset_index(name='Count')\n",
    "district_baseline = dict(zip(df_initial['PdDistrict'], df_initial['Count']))\n",
    "\n",
    "# Function to calculate percentage change\n",
    "def calculate_percentage_change(df, baseline):\n",
    "    df[\"Percentage_Change\"] = df.apply(lambda row: ((row['Count'] - baseline.get(row['PdDistrict'], 1)) / baseline.get(row['PdDistrict'], 1)) * 100, axis=1)\n",
    "    return df\n",
    "\n",
    "# Initial 2019 visualization (set as 0% change for reference)\n",
    "df_initial[\"Percentage_Change\"] = 0\n",
    "range_vals = (-100, 100)  # Set fixed color range for consistency\n",
    "\n",
    "fig = px.choropleth_map(df_initial, geojson=data, locations='PdDistrict',\n",
    "                           color='Percentage_Change', color_continuous_scale=px.colors.diverging.RdYlGn_r,\n",
    "                           range_color=range_vals, map_style=\"carto-positron\",\n",
    "                           zoom=10.5, center={\"lat\": 37.7749, \"lon\": -122.4194},\n",
    "                           opacity=0.5, labels={'Percentage_Change': \"Percentile change in crime\", 'PdDistrict': 'District'},\n",
    "                           height=800, width=800)\n",
    "\n",
    "# Add slider for year selection\n",
    "steps = []\n",
    "for year in years:\n",
    "    df_year = df_aggregated[df_aggregated[\"Year\"] == year].groupby('PdDistrict').size().reset_index(name='Count')\n",
    "    df_year = calculate_percentage_change(df_year, district_baseline)\n",
    "    \n",
    "    steps.append(\n",
    "        dict(\n",
    "            method=\"update\",\n",
    "            args=[{\"z\": [df_year['Percentage_Change']], \"locations\": [df_year['PdDistrict']]}],\n",
    "            label=str(year)\n",
    "        )\n",
    "    )\n",
    "\n",
    "sliders = [dict(\n",
    "    active=0,\n",
    "    currentvalue={\"prefix\": \"Year: \"},\n",
    "    pad={\"t\": 50},\n",
    "    steps=steps\n",
    ")]\n",
    "\n",
    "fig.update_layout(\n",
    "    font_family=\"monospace\",\n",
    "    sliders=sliders,\n",
    "    margin={\"r\": 10, \"t\": 100, \"l\": 10, \"b\": 10},\n",
    "    title={\n",
    "        'text': \"Burglaries in San Franciscos districts <br> Calculated as percentile change from 2018\",\n",
    "        'y': 0.95,\n",
    "        'x': 0.5,\n",
    "        'xanchor': 'center',\n",
    "        'yanchor': 'top',\n",
    "    }\n",
    ")\n",
    "\n",
    "fig.update_coloraxes(\n",
    "    colorbar=dict(\n",
    "        title=\"% Change in Crime\", \n",
    "        tickvals=[-100, 0, 100], \n",
    "        ticktext=[\"Decrease\", \"No Change\", \"Increase\"]\n",
    "    )\n",
    ")\n",
    "\n",
    "fig.show()\n",
    "# Save the figure as an HTML file\n",
    "pio.write_html(fig, \"sf-districts.html\")\n"
   ]
  },
  {
   "cell_type": "code",
   "execution_count": 153,
   "metadata": {},
   "outputs": [
    {
     "name": "stdout",
     "output_type": "stream",
     "text": []
    }
   ],
   "source": [
    "df_burglary.head()"
   ]
  },
  {
   "cell_type": "code",
   "execution_count": 154,
   "metadata": {},
   "outputs": [
    {
     "name": "stdout",
     "output_type": "stream",
     "text": []
    }
   ],
   "source": [
    "df_year = df_burglary[(df_burglary['Year'] >= 2019) & (df_burglary['Year'] <= 2024)]\n",
    "\n",
    "df_grouped = df_year.groupby(['Year', 'PdDistrict']).size().unstack()\n",
    "df_grouped.head()"
   ]
  },
  {
   "cell_type": "code",
   "execution_count": 155,
   "metadata": {},
   "outputs": [
    {
     "name": "stdout",
     "output_type": "stream",
     "text": []
    }
   ],
   "source": [
    "df_normalized = df_grouped.div(df_grouped.sum(), axis=1)\n",
    "df_normalized.head()"
   ]
  },
  {
   "cell_type": "code",
   "execution_count": 156,
   "metadata": {},
   "outputs": [],
   "source": [
    "from bokeh.plotting import figure, show\n",
    "from bokeh.models import ColumnDataSource, Legend\n",
    "from bokeh.io import output_notebook\n",
    "from bokeh.transform import dodge\n",
    "from bokeh.palettes import Spectral10"
   ]
  },
  {
   "cell_type": "code",
   "execution_count": 157,
   "metadata": {},
   "outputs": [
    {
     "name": "stdout",
     "output_type": "stream",
     "text": []
    }
   ],
   "source": [
    "df_normalized[\"year\"] = df_normalized.index\n",
    "df_normalized\n"
   ]
  },
  {
   "cell_type": "code",
   "execution_count": 158,
   "metadata": {},
   "outputs": [
    {
     "name": "stdout",
     "output_type": "stream",
     "text": []
    }
   ],
   "source": [
    "source = ColumnDataSource(df_normalized)\n",
    "districts = list(df_normalized.columns[:-1])\n",
    "years = df_normalized[\"year\"].astype(str).tolist()\n",
    "print(districts)\n",
    "print(*years)\n",
    "\n",
    "# on the x-axis I want years. 2019 to 2024\n",
    "# on the y-axis I want the values for each district. Normalized\n",
    "# on the button thingy I want to have each district"
   ]
  },
  {
   "cell_type": "code",
   "execution_count": 173,
   "metadata": {},
   "outputs": [
    {
     "name": "stdout",
     "output_type": "stream",
     "text": []
    },
    {
     "name": "stdout",
     "output_type": "stream",
     "text": []
    }
   ],
   "source": [
    "# Ensure the 'year' column is a string\n",
    "df_normalized[\"year\"] = df_normalized[\"year\"].astype(str)\n",
    "\n",
    "# Create the ColumnDataSource\n",
    "source = ColumnDataSource(df_normalized)\n",
    "\n",
    "# Create the plot\n",
    "p = figure(height=350, x_range=FactorRange(*years),  # Ensure years are strings\n",
    "           title=\"Burglaries in SF post corona - divided by districts\", toolbar_location=None, tools=\"\") \n",
    "\n",
    "# Add legend\n",
    "p.add_layout(Legend(), 'right')\n",
    "p.legend.label_text_font = 'monospace'\n",
    "p.legend.title_text_font = 'monospace'\n",
    "p.legend.click_policy = 'mute'\n",
    "p.legend.title = 'District'\n",
    "\n",
    "# Add vbars for each district\n",
    "for district, color in zip(districts, Spectral10):\n",
    "    p.vbar(x='year', top=district, width=0.8, source=source,\n",
    "            color=color,\n",
    "            legend_label=district,\n",
    "            alpha=0.6,\n",
    "            muted=True,\n",
    "            muted_alpha=0)\n",
    "\n",
    "p.y_range.start = 0\n",
    "p.xgrid.grid_line_color = None\n",
    "p.xaxis.axis_label = \"Year\"\n",
    "p.xaxis.major_label_text_font = 'monospace'\n",
    "p.xaxis.axis_label_text_font = 'monospace'\n",
    "\n",
    "p.outline_line_color = None\n",
    "p.yaxis.axis_label = \"(Normalized) crime count\"\n",
    "p.yaxis.major_label_text_font = 'monospace'\n",
    "p.yaxis.axis_label_text_font = 'monospace'\n",
    "\n",
    "p.title.text_font = 'monospace'\n",
    "\n",
    "#output_notebook()  # Only show it in the notebook\n",
    "output_file(\"bokeh_plot.html\")\n",
    "show(p)"
   ]
  }
 ],
 "metadata": {
  "kernelspec": {
   "display_name": "social-datavis",
   "language": "python",
   "name": "python3"
  },
  "language_info": {
   "codemirror_mode": {
    "name": "ipython",
    "version": 3
   },
   "file_extension": ".py",
   "mimetype": "text/x-python",
   "name": "python",
   "nbconvert_exporter": "python",
   "pygments_lexer": "ipython3",
   "version": "3.13.1"
  }
 },
 "nbformat": 4,
 "nbformat_minor": 4
}
