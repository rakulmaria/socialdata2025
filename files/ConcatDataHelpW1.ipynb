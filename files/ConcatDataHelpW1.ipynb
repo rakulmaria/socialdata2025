{
 "cells": [
  {
   "cell_type": "code",
   "execution_count": 1,
   "id": "d4b6343d-0271-43db-8c48-05a723868c5d",
   "metadata": {},
   "outputs": [],
   "source": [
    "import pandas as pd"
   ]
  },
  {
   "cell_type": "code",
   "execution_count": 2,
   "id": "9f5d3305-e122-498f-a342-b8df17dff19d",
   "metadata": {},
   "outputs": [],
   "source": [
    "# Set pandas display options to show all columns for .head command\n",
    "pd.set_option('display.max_columns', None)  # Show all columns\n",
    "pd.set_option('display.width', None)       # Auto-detect the display width\n",
    "pd.set_option('display.max_colwidth', None) # Show full content of each column"
   ]
  },
  {
   "cell_type": "code",
   "execution_count": 3,
   "id": "07b7b1e3-6c16-4d9a-add5-1930842f8b4f",
   "metadata": {},
   "outputs": [],
   "source": [
    "# Loading the datasets\n",
    "file_path1 = r'C:\\Users\\45502\\Desktop\\Social Data\\TA\\datasets\\2003toMay2018.csv'\n",
    "file_path2 = r'C:\\Users\\45502\\Desktop\\Social Data\\TA\\datasets\\2018toPresent.csv'\n",
    "data1 = pd.read_csv(file_path1)\n",
    "data2 = pd.read_csv(file_path2)"
   ]
  },
  {
   "cell_type": "code",
   "execution_count": 4,
   "id": "985bd8a1-245b-4227-a0e3-e8270486ee52",
   "metadata": {},
   "outputs": [
    {
     "data": {
      "text/html": [
       "<div>\n",
       "<style scoped>\n",
       "    .dataframe tbody tr th:only-of-type {\n",
       "        vertical-align: middle;\n",
       "    }\n",
       "\n",
       "    .dataframe tbody tr th {\n",
       "        vertical-align: top;\n",
       "    }\n",
       "\n",
       "    .dataframe thead th {\n",
       "        text-align: right;\n",
       "    }\n",
       "</style>\n",
       "<table border=\"1\" class=\"dataframe\">\n",
       "  <thead>\n",
       "    <tr style=\"text-align: right;\">\n",
       "      <th></th>\n",
       "      <th>PdId</th>\n",
       "      <th>IncidntNum</th>\n",
       "      <th>Incident Code</th>\n",
       "      <th>Category</th>\n",
       "      <th>Descript</th>\n",
       "      <th>DayOfWeek</th>\n",
       "      <th>Date</th>\n",
       "      <th>Time</th>\n",
       "      <th>PdDistrict</th>\n",
       "      <th>Resolution</th>\n",
       "      <th>Address</th>\n",
       "      <th>X</th>\n",
       "      <th>Y</th>\n",
       "      <th>location</th>\n",
       "      <th>SF Find Neighborhoods 2 2</th>\n",
       "      <th>Current Police Districts 2 2</th>\n",
       "      <th>Current Supervisor Districts 2 2</th>\n",
       "      <th>Analysis Neighborhoods 2 2</th>\n",
       "      <th>DELETE - Fire Prevention Districts 2 2</th>\n",
       "      <th>DELETE - Police Districts 2 2</th>\n",
       "      <th>DELETE - Supervisor Districts 2 2</th>\n",
       "      <th>DELETE - Zip Codes 2 2</th>\n",
       "      <th>DELETE - Neighborhoods 2 2</th>\n",
       "      <th>DELETE - 2017 Fix It Zones 2 2</th>\n",
       "      <th>Civic Center Harm Reduction Project Boundary 2 2</th>\n",
       "      <th>Fix It Zones as of 2017-11-06  2 2</th>\n",
       "      <th>DELETE - HSOC Zones 2 2</th>\n",
       "      <th>Fix It Zones as of 2018-02-07 2 2</th>\n",
       "      <th>CBD, BID and GBD Boundaries as of 2017 2 2</th>\n",
       "      <th>Areas of Vulnerability, 2016 2 2</th>\n",
       "      <th>Central Market/Tenderloin Boundary 2 2</th>\n",
       "      <th>Central Market/Tenderloin Boundary Polygon - Updated 2 2</th>\n",
       "      <th>HSOC Zones as of 2018-06-05 2 2</th>\n",
       "      <th>OWED Public Spaces 2 2</th>\n",
       "      <th>Neighborhoods 2</th>\n",
       "    </tr>\n",
       "  </thead>\n",
       "  <tbody>\n",
       "    <tr>\n",
       "      <th>0</th>\n",
       "      <td>4133422003074</td>\n",
       "      <td>41334220</td>\n",
       "      <td>3074</td>\n",
       "      <td>ROBBERY</td>\n",
       "      <td>ROBBERY, BODILY FORCE</td>\n",
       "      <td>Monday</td>\n",
       "      <td>11/22/2004</td>\n",
       "      <td>17:50</td>\n",
       "      <td>INGLESIDE</td>\n",
       "      <td>NONE</td>\n",
       "      <td>GENEVA AV / SANTOS ST</td>\n",
       "      <td>-122.420084</td>\n",
       "      <td>37.708311</td>\n",
       "      <td>POINT (-122.420084075249 37.7083109744362)</td>\n",
       "      <td>NaN</td>\n",
       "      <td>NaN</td>\n",
       "      <td>9.0</td>\n",
       "      <td>NaN</td>\n",
       "      <td>NaN</td>\n",
       "      <td>NaN</td>\n",
       "      <td>8.0</td>\n",
       "      <td>309.0</td>\n",
       "      <td>NaN</td>\n",
       "      <td>NaN</td>\n",
       "      <td>NaN</td>\n",
       "      <td>NaN</td>\n",
       "      <td>NaN</td>\n",
       "      <td>NaN</td>\n",
       "      <td>NaN</td>\n",
       "      <td>NaN</td>\n",
       "      <td>NaN</td>\n",
       "      <td>NaN</td>\n",
       "      <td>NaN</td>\n",
       "      <td>NaN</td>\n",
       "      <td>NaN</td>\n",
       "    </tr>\n",
       "    <tr>\n",
       "      <th>1</th>\n",
       "      <td>5118535807021</td>\n",
       "      <td>51185358</td>\n",
       "      <td>7021</td>\n",
       "      <td>VEHICLE THEFT</td>\n",
       "      <td>STOLEN AUTOMOBILE</td>\n",
       "      <td>Tuesday</td>\n",
       "      <td>10/18/2005</td>\n",
       "      <td>20:00</td>\n",
       "      <td>PARK</td>\n",
       "      <td>NONE</td>\n",
       "      <td>TURK ST / STJOSEPHS AV</td>\n",
       "      <td>-120.500000</td>\n",
       "      <td>90.000000</td>\n",
       "      <td>POINT (-120.50000000000001 90)</td>\n",
       "      <td>NaN</td>\n",
       "      <td>NaN</td>\n",
       "      <td>NaN</td>\n",
       "      <td>NaN</td>\n",
       "      <td>NaN</td>\n",
       "      <td>NaN</td>\n",
       "      <td>NaN</td>\n",
       "      <td>NaN</td>\n",
       "      <td>NaN</td>\n",
       "      <td>NaN</td>\n",
       "      <td>NaN</td>\n",
       "      <td>NaN</td>\n",
       "      <td>NaN</td>\n",
       "      <td>NaN</td>\n",
       "      <td>NaN</td>\n",
       "      <td>NaN</td>\n",
       "      <td>NaN</td>\n",
       "      <td>NaN</td>\n",
       "      <td>NaN</td>\n",
       "      <td>NaN</td>\n",
       "      <td>NaN</td>\n",
       "    </tr>\n",
       "  </tbody>\n",
       "</table>\n",
       "</div>"
      ],
      "text/plain": [
       "            PdId  IncidntNum  Incident Code       Category  \\\n",
       "0  4133422003074    41334220           3074        ROBBERY   \n",
       "1  5118535807021    51185358           7021  VEHICLE THEFT   \n",
       "\n",
       "                Descript DayOfWeek        Date   Time PdDistrict Resolution  \\\n",
       "0  ROBBERY, BODILY FORCE    Monday  11/22/2004  17:50  INGLESIDE       NONE   \n",
       "1      STOLEN AUTOMOBILE   Tuesday  10/18/2005  20:00       PARK       NONE   \n",
       "\n",
       "                  Address           X          Y  \\\n",
       "0   GENEVA AV / SANTOS ST -122.420084  37.708311   \n",
       "1  TURK ST / STJOSEPHS AV -120.500000  90.000000   \n",
       "\n",
       "                                     location  SF Find Neighborhoods 2 2  \\\n",
       "0  POINT (-122.420084075249 37.7083109744362)                        NaN   \n",
       "1              POINT (-120.50000000000001 90)                        NaN   \n",
       "\n",
       "   Current Police Districts 2 2  Current Supervisor Districts 2 2  \\\n",
       "0                           NaN                               9.0   \n",
       "1                           NaN                               NaN   \n",
       "\n",
       "   Analysis Neighborhoods 2 2  DELETE - Fire Prevention Districts 2 2  \\\n",
       "0                         NaN                                     NaN   \n",
       "1                         NaN                                     NaN   \n",
       "\n",
       "   DELETE - Police Districts 2 2  DELETE - Supervisor Districts 2 2  \\\n",
       "0                            NaN                                8.0   \n",
       "1                            NaN                                NaN   \n",
       "\n",
       "   DELETE - Zip Codes 2 2  DELETE - Neighborhoods 2 2  \\\n",
       "0                   309.0                         NaN   \n",
       "1                     NaN                         NaN   \n",
       "\n",
       "   DELETE - 2017 Fix It Zones 2 2  \\\n",
       "0                             NaN   \n",
       "1                             NaN   \n",
       "\n",
       "   Civic Center Harm Reduction Project Boundary 2 2  \\\n",
       "0                                               NaN   \n",
       "1                                               NaN   \n",
       "\n",
       "   Fix It Zones as of 2017-11-06  2 2  DELETE - HSOC Zones 2 2  \\\n",
       "0                                 NaN                      NaN   \n",
       "1                                 NaN                      NaN   \n",
       "\n",
       "   Fix It Zones as of 2018-02-07 2 2  \\\n",
       "0                                NaN   \n",
       "1                                NaN   \n",
       "\n",
       "   CBD, BID and GBD Boundaries as of 2017 2 2  \\\n",
       "0                                         NaN   \n",
       "1                                         NaN   \n",
       "\n",
       "   Areas of Vulnerability, 2016 2 2  Central Market/Tenderloin Boundary 2 2  \\\n",
       "0                               NaN                                     NaN   \n",
       "1                               NaN                                     NaN   \n",
       "\n",
       "   Central Market/Tenderloin Boundary Polygon - Updated 2 2  \\\n",
       "0                                                       NaN   \n",
       "1                                                       NaN   \n",
       "\n",
       "   HSOC Zones as of 2018-06-05 2 2  OWED Public Spaces 2 2  Neighborhoods 2  \n",
       "0                              NaN                     NaN              NaN  \n",
       "1                              NaN                     NaN              NaN  "
      ]
     },
     "execution_count": 4,
     "metadata": {},
     "output_type": "execute_result"
    }
   ],
   "source": [
    "data1.head(2)"
   ]
  },
  {
   "cell_type": "code",
   "execution_count": 5,
   "id": "12859043-30db-4d17-b95a-9125ed4b7e71",
   "metadata": {},
   "outputs": [
    {
     "name": "stdout",
     "output_type": "stream",
     "text": [
      "<class 'pandas.core.frame.DataFrame'>\n",
      "RangeIndex: 2129525 entries, 0 to 2129524\n",
      "Data columns (total 35 columns):\n",
      " #   Column                                                    Dtype  \n",
      "---  ------                                                    -----  \n",
      " 0   PdId                                                      int64  \n",
      " 1   IncidntNum                                                int64  \n",
      " 2   Incident Code                                             int64  \n",
      " 3   Category                                                  object \n",
      " 4   Descript                                                  object \n",
      " 5   DayOfWeek                                                 object \n",
      " 6   Date                                                      object \n",
      " 7   Time                                                      object \n",
      " 8   PdDistrict                                                object \n",
      " 9   Resolution                                                object \n",
      " 10  Address                                                   object \n",
      " 11  X                                                         float64\n",
      " 12  Y                                                         float64\n",
      " 13  location                                                  object \n",
      " 14  SF Find Neighborhoods 2 2                                 float64\n",
      " 15  Current Police Districts 2 2                              float64\n",
      " 16  Current Supervisor Districts 2 2                          float64\n",
      " 17  Analysis Neighborhoods 2 2                                float64\n",
      " 18  DELETE - Fire Prevention Districts 2 2                    float64\n",
      " 19  DELETE - Police Districts 2 2                             float64\n",
      " 20  DELETE - Supervisor Districts 2 2                         float64\n",
      " 21  DELETE - Zip Codes 2 2                                    float64\n",
      " 22  DELETE - Neighborhoods 2 2                                float64\n",
      " 23  DELETE - 2017 Fix It Zones 2 2                            float64\n",
      " 24  Civic Center Harm Reduction Project Boundary 2 2          float64\n",
      " 25  Fix It Zones as of 2017-11-06  2 2                        float64\n",
      " 26  DELETE - HSOC Zones 2 2                                   float64\n",
      " 27  Fix It Zones as of 2018-02-07 2 2                         float64\n",
      " 28  CBD, BID and GBD Boundaries as of 2017 2 2                float64\n",
      " 29  Areas of Vulnerability, 2016 2 2                          float64\n",
      " 30  Central Market/Tenderloin Boundary 2 2                    float64\n",
      " 31  Central Market/Tenderloin Boundary Polygon - Updated 2 2  float64\n",
      " 32  HSOC Zones as of 2018-06-05 2 2                           float64\n",
      " 33  OWED Public Spaces 2 2                                    float64\n",
      " 34  Neighborhoods 2                                           float64\n",
      "dtypes: float64(23), int64(3), object(9)\n",
      "memory usage: 568.6+ MB\n"
     ]
    }
   ],
   "source": [
    "data1.info()"
   ]
  },
  {
   "cell_type": "code",
   "execution_count": 6,
   "id": "9f2e2efc-c95f-48fd-85f1-51105253f1ba",
   "metadata": {},
   "outputs": [],
   "source": [
    "columns_to_keep1 = ['Date','Time','Category','DayOfWeek','X','Y','PdDistrict'] #Adjust the features you want to keep"
   ]
  },
  {
   "cell_type": "code",
   "execution_count": 7,
   "id": "19e378a2-e4d4-446b-9e3f-116a0adac7ca",
   "metadata": {},
   "outputs": [],
   "source": [
    "df1 = data1[columns_to_keep1]"
   ]
  },
  {
   "cell_type": "code",
   "execution_count": 8,
   "id": "24ef03ff-9a25-4553-98a2-1edd251d4afa",
   "metadata": {},
   "outputs": [
    {
     "data": {
      "text/html": [
       "<div>\n",
       "<style scoped>\n",
       "    .dataframe tbody tr th:only-of-type {\n",
       "        vertical-align: middle;\n",
       "    }\n",
       "\n",
       "    .dataframe tbody tr th {\n",
       "        vertical-align: top;\n",
       "    }\n",
       "\n",
       "    .dataframe thead th {\n",
       "        text-align: right;\n",
       "    }\n",
       "</style>\n",
       "<table border=\"1\" class=\"dataframe\">\n",
       "  <thead>\n",
       "    <tr style=\"text-align: right;\">\n",
       "      <th></th>\n",
       "      <th>Date</th>\n",
       "      <th>Time</th>\n",
       "      <th>Category</th>\n",
       "      <th>DayOfWeek</th>\n",
       "      <th>X</th>\n",
       "      <th>Y</th>\n",
       "      <th>PdDistrict</th>\n",
       "    </tr>\n",
       "  </thead>\n",
       "  <tbody>\n",
       "    <tr>\n",
       "      <th>0</th>\n",
       "      <td>11/22/2004</td>\n",
       "      <td>17:50</td>\n",
       "      <td>ROBBERY</td>\n",
       "      <td>Monday</td>\n",
       "      <td>-122.420084</td>\n",
       "      <td>37.708311</td>\n",
       "      <td>INGLESIDE</td>\n",
       "    </tr>\n",
       "    <tr>\n",
       "      <th>1</th>\n",
       "      <td>10/18/2005</td>\n",
       "      <td>20:00</td>\n",
       "      <td>VEHICLE THEFT</td>\n",
       "      <td>Tuesday</td>\n",
       "      <td>-120.500000</td>\n",
       "      <td>90.000000</td>\n",
       "      <td>PARK</td>\n",
       "    </tr>\n",
       "    <tr>\n",
       "      <th>2</th>\n",
       "      <td>02/15/2004</td>\n",
       "      <td>02:00</td>\n",
       "      <td>VEHICLE THEFT</td>\n",
       "      <td>Sunday</td>\n",
       "      <td>-120.500000</td>\n",
       "      <td>90.000000</td>\n",
       "      <td>SOUTHERN</td>\n",
       "    </tr>\n",
       "    <tr>\n",
       "      <th>3</th>\n",
       "      <td>02/18/2011</td>\n",
       "      <td>05:27</td>\n",
       "      <td>ARSON</td>\n",
       "      <td>Friday</td>\n",
       "      <td>-122.436220</td>\n",
       "      <td>37.724377</td>\n",
       "      <td>INGLESIDE</td>\n",
       "    </tr>\n",
       "    <tr>\n",
       "      <th>4</th>\n",
       "      <td>11/21/2010</td>\n",
       "      <td>17:00</td>\n",
       "      <td>ASSAULT</td>\n",
       "      <td>Sunday</td>\n",
       "      <td>-122.410541</td>\n",
       "      <td>37.770913</td>\n",
       "      <td>SOUTHERN</td>\n",
       "    </tr>\n",
       "  </tbody>\n",
       "</table>\n",
       "</div>"
      ],
      "text/plain": [
       "         Date   Time       Category DayOfWeek           X          Y  \\\n",
       "0  11/22/2004  17:50        ROBBERY    Monday -122.420084  37.708311   \n",
       "1  10/18/2005  20:00  VEHICLE THEFT   Tuesday -120.500000  90.000000   \n",
       "2  02/15/2004  02:00  VEHICLE THEFT    Sunday -120.500000  90.000000   \n",
       "3  02/18/2011  05:27          ARSON    Friday -122.436220  37.724377   \n",
       "4  11/21/2010  17:00        ASSAULT    Sunday -122.410541  37.770913   \n",
       "\n",
       "  PdDistrict  \n",
       "0  INGLESIDE  \n",
       "1       PARK  \n",
       "2   SOUTHERN  \n",
       "3  INGLESIDE  \n",
       "4   SOUTHERN  "
      ]
     },
     "execution_count": 8,
     "metadata": {},
     "output_type": "execute_result"
    }
   ],
   "source": [
    "df1.head()"
   ]
  },
  {
   "cell_type": "code",
   "execution_count": 9,
   "id": "e16d59f8-abd9-476f-bb9c-b975ea1f03ed",
   "metadata": {},
   "outputs": [
    {
     "data": {
      "text/html": [
       "<div>\n",
       "<style scoped>\n",
       "    .dataframe tbody tr th:only-of-type {\n",
       "        vertical-align: middle;\n",
       "    }\n",
       "\n",
       "    .dataframe tbody tr th {\n",
       "        vertical-align: top;\n",
       "    }\n",
       "\n",
       "    .dataframe thead th {\n",
       "        text-align: right;\n",
       "    }\n",
       "</style>\n",
       "<table border=\"1\" class=\"dataframe\">\n",
       "  <thead>\n",
       "    <tr style=\"text-align: right;\">\n",
       "      <th></th>\n",
       "      <th>Incident Datetime</th>\n",
       "      <th>Incident Date</th>\n",
       "      <th>Incident Time</th>\n",
       "      <th>Incident Year</th>\n",
       "      <th>Incident Day of Week</th>\n",
       "      <th>Report Datetime</th>\n",
       "      <th>Row ID</th>\n",
       "      <th>Incident ID</th>\n",
       "      <th>Incident Number</th>\n",
       "      <th>CAD Number</th>\n",
       "      <th>Report Type Code</th>\n",
       "      <th>Report Type Description</th>\n",
       "      <th>Filed Online</th>\n",
       "      <th>Incident Code</th>\n",
       "      <th>Incident Category</th>\n",
       "      <th>Incident Subcategory</th>\n",
       "      <th>Incident Description</th>\n",
       "      <th>Resolution</th>\n",
       "      <th>Intersection</th>\n",
       "      <th>CNN</th>\n",
       "      <th>Police District</th>\n",
       "      <th>Analysis Neighborhood</th>\n",
       "      <th>Supervisor District</th>\n",
       "      <th>Supervisor District 2012</th>\n",
       "      <th>Latitude</th>\n",
       "      <th>Longitude</th>\n",
       "      <th>Point</th>\n",
       "      <th>Neighborhoods</th>\n",
       "      <th>ESNCAG - Boundary File</th>\n",
       "      <th>Central Market/Tenderloin Boundary Polygon - Updated</th>\n",
       "      <th>Civic Center Harm Reduction Project Boundary</th>\n",
       "      <th>HSOC Zones as of 2018-06-05</th>\n",
       "      <th>Invest In Neighborhoods (IIN) Areas</th>\n",
       "      <th>Current Supervisor Districts</th>\n",
       "      <th>Current Police Districts</th>\n",
       "    </tr>\n",
       "  </thead>\n",
       "  <tbody>\n",
       "    <tr>\n",
       "      <th>0</th>\n",
       "      <td>2023/03/01 05:02:00 AM</td>\n",
       "      <td>2023/03/01</td>\n",
       "      <td>05:02</td>\n",
       "      <td>2023</td>\n",
       "      <td>Wednesday</td>\n",
       "      <td>2023/03/11 03:40:00 PM</td>\n",
       "      <td>125379506374</td>\n",
       "      <td>1253795</td>\n",
       "      <td>236046151</td>\n",
       "      <td>NaN</td>\n",
       "      <td>II</td>\n",
       "      <td>Coplogic Initial</td>\n",
       "      <td>True</td>\n",
       "      <td>6374</td>\n",
       "      <td>Larceny Theft</td>\n",
       "      <td>Larceny Theft - Other</td>\n",
       "      <td>Theft, Other Property, &gt;$950</td>\n",
       "      <td>Open or Active</td>\n",
       "      <td>NaN</td>\n",
       "      <td>NaN</td>\n",
       "      <td>Mission</td>\n",
       "      <td>NaN</td>\n",
       "      <td>NaN</td>\n",
       "      <td>NaN</td>\n",
       "      <td>NaN</td>\n",
       "      <td>NaN</td>\n",
       "      <td>NaN</td>\n",
       "      <td>NaN</td>\n",
       "      <td>NaN</td>\n",
       "      <td>NaN</td>\n",
       "      <td>NaN</td>\n",
       "      <td>NaN</td>\n",
       "      <td>NaN</td>\n",
       "      <td>NaN</td>\n",
       "      <td>NaN</td>\n",
       "    </tr>\n",
       "    <tr>\n",
       "      <th>1</th>\n",
       "      <td>2023/03/13 10:59:00 AM</td>\n",
       "      <td>2023/03/13</td>\n",
       "      <td>10:59</td>\n",
       "      <td>2023</td>\n",
       "      <td>Monday</td>\n",
       "      <td>2023/03/13 11:00:00 AM</td>\n",
       "      <td>125355107041</td>\n",
       "      <td>1253551</td>\n",
       "      <td>230174885</td>\n",
       "      <td>NaN</td>\n",
       "      <td>VS</td>\n",
       "      <td>Vehicle Supplement</td>\n",
       "      <td>NaN</td>\n",
       "      <td>7041</td>\n",
       "      <td>Recovered Vehicle</td>\n",
       "      <td>Recovered Vehicle</td>\n",
       "      <td>Vehicle, Recovered, Auto</td>\n",
       "      <td>Open or Active</td>\n",
       "      <td>NaN</td>\n",
       "      <td>NaN</td>\n",
       "      <td>Out of SF</td>\n",
       "      <td>NaN</td>\n",
       "      <td>NaN</td>\n",
       "      <td>NaN</td>\n",
       "      <td>NaN</td>\n",
       "      <td>NaN</td>\n",
       "      <td>NaN</td>\n",
       "      <td>NaN</td>\n",
       "      <td>NaN</td>\n",
       "      <td>NaN</td>\n",
       "      <td>NaN</td>\n",
       "      <td>NaN</td>\n",
       "      <td>NaN</td>\n",
       "      <td>NaN</td>\n",
       "      <td>NaN</td>\n",
       "    </tr>\n",
       "  </tbody>\n",
       "</table>\n",
       "</div>"
      ],
      "text/plain": [
       "        Incident Datetime Incident Date Incident Time  Incident Year  \\\n",
       "0  2023/03/01 05:02:00 AM    2023/03/01         05:02           2023   \n",
       "1  2023/03/13 10:59:00 AM    2023/03/13         10:59           2023   \n",
       "\n",
       "  Incident Day of Week         Report Datetime        Row ID  Incident ID  \\\n",
       "0            Wednesday  2023/03/11 03:40:00 PM  125379506374      1253795   \n",
       "1               Monday  2023/03/13 11:00:00 AM  125355107041      1253551   \n",
       "\n",
       "   Incident Number  CAD Number Report Type Code Report Type Description  \\\n",
       "0        236046151         NaN               II        Coplogic Initial   \n",
       "1        230174885         NaN               VS      Vehicle Supplement   \n",
       "\n",
       "  Filed Online  Incident Code  Incident Category   Incident Subcategory  \\\n",
       "0         True           6374      Larceny Theft  Larceny Theft - Other   \n",
       "1          NaN           7041  Recovered Vehicle      Recovered Vehicle   \n",
       "\n",
       "           Incident Description      Resolution Intersection  CNN  \\\n",
       "0  Theft, Other Property, >$950  Open or Active          NaN  NaN   \n",
       "1      Vehicle, Recovered, Auto  Open or Active          NaN  NaN   \n",
       "\n",
       "  Police District Analysis Neighborhood  Supervisor District  \\\n",
       "0         Mission                   NaN                  NaN   \n",
       "1       Out of SF                   NaN                  NaN   \n",
       "\n",
       "   Supervisor District 2012  Latitude  Longitude Point  Neighborhoods  \\\n",
       "0                       NaN       NaN        NaN   NaN            NaN   \n",
       "1                       NaN       NaN        NaN   NaN            NaN   \n",
       "\n",
       "   ESNCAG - Boundary File  \\\n",
       "0                     NaN   \n",
       "1                     NaN   \n",
       "\n",
       "   Central Market/Tenderloin Boundary Polygon - Updated  \\\n",
       "0                                                   NaN   \n",
       "1                                                   NaN   \n",
       "\n",
       "   Civic Center Harm Reduction Project Boundary  HSOC Zones as of 2018-06-05  \\\n",
       "0                                           NaN                          NaN   \n",
       "1                                           NaN                          NaN   \n",
       "\n",
       "   Invest In Neighborhoods (IIN) Areas  Current Supervisor Districts  \\\n",
       "0                                  NaN                           NaN   \n",
       "1                                  NaN                           NaN   \n",
       "\n",
       "   Current Police Districts  \n",
       "0                       NaN  \n",
       "1                       NaN  "
      ]
     },
     "execution_count": 9,
     "metadata": {},
     "output_type": "execute_result"
    }
   ],
   "source": [
    "data2.head(2)"
   ]
  },
  {
   "cell_type": "code",
   "execution_count": 10,
   "id": "cb1e71dc-b8b2-4548-b837-2764540cebee",
   "metadata": {},
   "outputs": [
    {
     "name": "stdout",
     "output_type": "stream",
     "text": [
      "['INGLESIDE' 'PARK' 'SOUTHERN' 'TARAVAL' 'TENDERLOIN' 'BAYVIEW' 'CENTRAL'\n",
      " 'NORTHERN' 'MISSION' 'RICHMOND' nan]\n"
     ]
    }
   ],
   "source": [
    "print(data1['PdDistrict'].unique())"
   ]
  },
  {
   "cell_type": "code",
   "execution_count": 11,
   "id": "db382d18-2f53-42c2-b086-02d76495059f",
   "metadata": {},
   "outputs": [
    {
     "name": "stdout",
     "output_type": "stream",
     "text": [
      "10\n"
     ]
    }
   ],
   "source": [
    "num_unique_values_pd1 = data1['PdDistrict'].nunique()\n",
    "\n",
    "# Print the number of unique values\n",
    "print(num_unique_values_pd1)"
   ]
  },
  {
   "cell_type": "code",
   "execution_count": 12,
   "id": "078e4955-c638-478c-a440-4dc8305a8224",
   "metadata": {},
   "outputs": [
    {
     "name": "stdout",
     "output_type": "stream",
     "text": [
      "['Mission' 'Out of SF' 'Central' 'Bayview' 'Richmond' 'Southern'\n",
      " 'Northern' 'Taraval' 'Tenderloin' 'Park' 'Ingleside']\n"
     ]
    }
   ],
   "source": [
    "print(data2['Police District'].unique())"
   ]
  },
  {
   "cell_type": "code",
   "execution_count": 13,
   "id": "9aa98ab4-410e-4b4d-a272-568a391eb25c",
   "metadata": {},
   "outputs": [
    {
     "name": "stdout",
     "output_type": "stream",
     "text": [
      "11\n"
     ]
    }
   ],
   "source": [
    "num_unique_values_pd2 = data2['Police District'].nunique()\n",
    "\n",
    "# Print the number of unique values\n",
    "print(num_unique_values_pd2)"
   ]
  },
  {
   "cell_type": "code",
   "execution_count": 14,
   "id": "0075edb9-b978-4467-8723-e56f09605477",
   "metadata": {},
   "outputs": [
    {
     "name": "stdout",
     "output_type": "stream",
     "text": [
      "<class 'pandas.core.frame.DataFrame'>\n",
      "RangeIndex: 928755 entries, 0 to 928754\n",
      "Data columns (total 35 columns):\n",
      " #   Column                                                Non-Null Count   Dtype  \n",
      "---  ------                                                --------------   -----  \n",
      " 0   Incident Datetime                                     928755 non-null  object \n",
      " 1   Incident Date                                         928755 non-null  object \n",
      " 2   Incident Time                                         928755 non-null  object \n",
      " 3   Incident Year                                         928755 non-null  int64  \n",
      " 4   Incident Day of Week                                  928755 non-null  object \n",
      " 5   Report Datetime                                       928755 non-null  object \n",
      " 6   Row ID                                                928755 non-null  int64  \n",
      " 7   Incident ID                                           928755 non-null  int64  \n",
      " 8   Incident Number                                       928755 non-null  int64  \n",
      " 9   CAD Number                                            722466 non-null  float64\n",
      " 10  Report Type Code                                      928755 non-null  object \n",
      " 11  Report Type Description                               928755 non-null  object \n",
      " 12  Filed Online                                          182102 non-null  object \n",
      " 13  Incident Code                                         928755 non-null  int64  \n",
      " 14  Incident Category                                     927717 non-null  object \n",
      " 15  Incident Subcategory                                  927717 non-null  object \n",
      " 16  Incident Description                                  928755 non-null  object \n",
      " 17  Resolution                                            928755 non-null  object \n",
      " 18  Intersection                                          877793 non-null  object \n",
      " 19  CNN                                                   877793 non-null  float64\n",
      " 20  Police District                                       928755 non-null  object \n",
      " 21  Analysis Neighborhood                                 877591 non-null  object \n",
      " 22  Supervisor District                                   877324 non-null  float64\n",
      " 23  Supervisor District 2012                              877656 non-null  float64\n",
      " 24  Latitude                                              877793 non-null  float64\n",
      " 25  Longitude                                             877793 non-null  float64\n",
      " 26  Point                                                 877793 non-null  object \n",
      " 27  Neighborhoods                                         862505 non-null  float64\n",
      " 28  ESNCAG - Boundary File                                10230 non-null   float64\n",
      " 29  Central Market/Tenderloin Boundary Polygon - Updated  123762 non-null  float64\n",
      " 30  Civic Center Harm Reduction Project Boundary          121099 non-null  float64\n",
      " 31  HSOC Zones as of 2018-06-05                           194903 non-null  float64\n",
      " 32  Invest In Neighborhoods (IIN) Areas                   0 non-null       float64\n",
      " 33  Current Supervisor Districts                          877656 non-null  float64\n",
      " 34  Current Police Districts                              876860 non-null  float64\n",
      "dtypes: float64(14), int64(5), object(16)\n",
      "memory usage: 248.0+ MB\n"
     ]
    }
   ],
   "source": [
    "data2.info()"
   ]
  },
  {
   "cell_type": "code",
   "execution_count": 15,
   "id": "f34c7293-6808-451c-b2c5-f2befeb3aa82",
   "metadata": {},
   "outputs": [
    {
     "name": "stdout",
     "output_type": "stream",
     "text": [
      "['ROBBERY' 'VEHICLE THEFT' 'ARSON' 'ASSAULT' 'TRESPASS' 'BURGLARY'\n",
      " 'LARCENY/THEFT' 'WARRANTS' 'OTHER OFFENSES' 'DRUG/NARCOTIC'\n",
      " 'SUSPICIOUS OCC' 'LIQUOR LAWS' 'VANDALISM' 'WEAPON LAWS' 'NON-CRIMINAL'\n",
      " 'MISSING PERSON' 'FRAUD' 'SEX OFFENSES, FORCIBLE' 'SECONDARY CODES'\n",
      " 'DISORDERLY CONDUCT' 'RECOVERED VEHICLE' 'KIDNAPPING'\n",
      " 'FORGERY/COUNTERFEITING' 'PROSTITUTION' 'DRUNKENNESS' 'BAD CHECKS'\n",
      " 'DRIVING UNDER THE INFLUENCE' 'LOITERING' 'STOLEN PROPERTY' 'SUICIDE'\n",
      " 'BRIBERY' 'EXTORTION' 'EMBEZZLEMENT' 'GAMBLING' 'PORNOGRAPHY/OBSCENE MAT'\n",
      " 'SEX OFFENSES, NON FORCIBLE' 'TREA']\n"
     ]
    }
   ],
   "source": [
    "unique_values1 = data1['Category'].unique()\n",
    "\n",
    "# Print all unique values\n",
    "print(unique_values1)"
   ]
  },
  {
   "cell_type": "code",
   "execution_count": 16,
   "id": "60a43bc2-1084-491b-9a62-a411e2285701",
   "metadata": {},
   "outputs": [
    {
     "name": "stdout",
     "output_type": "stream",
     "text": [
      "37\n"
     ]
    }
   ],
   "source": [
    "num_unique_values1 = data1['Category'].nunique()\n",
    "\n",
    "# Print the number of unique values\n",
    "print(num_unique_values1)"
   ]
  },
  {
   "cell_type": "code",
   "execution_count": 17,
   "id": "a44f1d4a-5b45-435d-9a71-9c10a8156e59",
   "metadata": {},
   "outputs": [
    {
     "name": "stdout",
     "output_type": "stream",
     "text": [
      "['Larceny Theft' 'Recovered Vehicle' 'Lost Property' 'Drug Violation'\n",
      " 'Assault' 'Malicious Mischief' 'Non-Criminal' 'Fraud' 'Warrant'\n",
      " 'Other Offenses' 'Robbery' 'Case Closure' 'Stolen Property'\n",
      " 'Other Miscellaneous' 'Other' 'Traffic Collision' 'Suspicious Occ'\n",
      " 'Disorderly Conduct' 'Weapons Carrying Etc' 'Rape' 'Drug Offense'\n",
      " 'Missing Person' 'Motor Vehicle Theft' 'Burglary' 'Fire Report' 'Arson'\n",
      " 'Vandalism' 'Suicide' 'Traffic Violation Arrest' 'Courtesy Report'\n",
      " 'Offences Against The Family And Children' 'Forgery And Counterfeiting'\n",
      " 'Sex Offense' 'Prostitution' 'Weapons Offense'\n",
      " 'Miscellaneous Investigation' 'Vehicle Misplaced' 'Suspicious' nan\n",
      " 'Embezzlement' 'Vehicle Impounded' 'Civil Sidewalks' 'Homicide'\n",
      " 'Liquor Laws' 'Human Trafficking (A), Commercial Sex Acts'\n",
      " 'Human Trafficking, Commercial Sex Acts' 'Gambling'\n",
      " 'Motor Vehicle Theft?' 'Weapons Offence'\n",
      " 'Human Trafficking (B), Involuntary Servitude']\n"
     ]
    }
   ],
   "source": [
    "unique_values2 = data2['Incident Category'].unique()\n",
    "\n",
    "# Print all unique values\n",
    "print(unique_values2)"
   ]
  },
  {
   "cell_type": "code",
   "execution_count": 18,
   "id": "625bb9e0-2dca-4777-92be-04746a10cb2b",
   "metadata": {},
   "outputs": [
    {
     "name": "stdout",
     "output_type": "stream",
     "text": [
      "49\n"
     ]
    }
   ],
   "source": [
    "num_unique_values2 = data2['Incident Category'].nunique()\n",
    "\n",
    "# Print the number of unique values\n",
    "print(num_unique_values2)"
   ]
  },
  {
   "cell_type": "code",
   "execution_count": 19,
   "id": "23ffb08a-55b8-41ef-a4b2-678990271380",
   "metadata": {},
   "outputs": [],
   "source": [
    "columns_to_keep2 = ['Incident Datetime','Incident Day of Week','Incident Category'\n",
    "                   ,'Latitude','Longitude','Police District']"
   ]
  },
  {
   "cell_type": "code",
   "execution_count": 20,
   "id": "214919fe-43f3-4155-8695-dcf3b81350b4",
   "metadata": {},
   "outputs": [],
   "source": [
    "df2 = data2[columns_to_keep2]"
   ]
  },
  {
   "cell_type": "code",
   "execution_count": 21,
   "id": "246114b1-fcba-47fb-b59e-b13a2faca3ed",
   "metadata": {},
   "outputs": [
    {
     "data": {
      "text/html": [
       "<div>\n",
       "<style scoped>\n",
       "    .dataframe tbody tr th:only-of-type {\n",
       "        vertical-align: middle;\n",
       "    }\n",
       "\n",
       "    .dataframe tbody tr th {\n",
       "        vertical-align: top;\n",
       "    }\n",
       "\n",
       "    .dataframe thead th {\n",
       "        text-align: right;\n",
       "    }\n",
       "</style>\n",
       "<table border=\"1\" class=\"dataframe\">\n",
       "  <thead>\n",
       "    <tr style=\"text-align: right;\">\n",
       "      <th></th>\n",
       "      <th>Incident Datetime</th>\n",
       "      <th>Incident Day of Week</th>\n",
       "      <th>Incident Category</th>\n",
       "      <th>Latitude</th>\n",
       "      <th>Longitude</th>\n",
       "      <th>Police District</th>\n",
       "    </tr>\n",
       "  </thead>\n",
       "  <tbody>\n",
       "    <tr>\n",
       "      <th>0</th>\n",
       "      <td>2023/03/01 05:02:00 AM</td>\n",
       "      <td>Wednesday</td>\n",
       "      <td>Larceny Theft</td>\n",
       "      <td>NaN</td>\n",
       "      <td>NaN</td>\n",
       "      <td>Mission</td>\n",
       "    </tr>\n",
       "    <tr>\n",
       "      <th>1</th>\n",
       "      <td>2023/03/13 10:59:00 AM</td>\n",
       "      <td>Monday</td>\n",
       "      <td>Recovered Vehicle</td>\n",
       "      <td>NaN</td>\n",
       "      <td>NaN</td>\n",
       "      <td>Out of SF</td>\n",
       "    </tr>\n",
       "    <tr>\n",
       "      <th>2</th>\n",
       "      <td>2023/03/14 06:44:00 PM</td>\n",
       "      <td>Tuesday</td>\n",
       "      <td>Recovered Vehicle</td>\n",
       "      <td>NaN</td>\n",
       "      <td>NaN</td>\n",
       "      <td>Out of SF</td>\n",
       "    </tr>\n",
       "    <tr>\n",
       "      <th>3</th>\n",
       "      <td>2023/02/15 03:00:00 AM</td>\n",
       "      <td>Wednesday</td>\n",
       "      <td>Larceny Theft</td>\n",
       "      <td>NaN</td>\n",
       "      <td>NaN</td>\n",
       "      <td>Mission</td>\n",
       "    </tr>\n",
       "    <tr>\n",
       "      <th>4</th>\n",
       "      <td>2023/03/13 11:26:00 AM</td>\n",
       "      <td>Monday</td>\n",
       "      <td>Larceny Theft</td>\n",
       "      <td>NaN</td>\n",
       "      <td>NaN</td>\n",
       "      <td>Central</td>\n",
       "    </tr>\n",
       "  </tbody>\n",
       "</table>\n",
       "</div>"
      ],
      "text/plain": [
       "        Incident Datetime Incident Day of Week  Incident Category  Latitude  \\\n",
       "0  2023/03/01 05:02:00 AM            Wednesday      Larceny Theft       NaN   \n",
       "1  2023/03/13 10:59:00 AM               Monday  Recovered Vehicle       NaN   \n",
       "2  2023/03/14 06:44:00 PM              Tuesday  Recovered Vehicle       NaN   \n",
       "3  2023/02/15 03:00:00 AM            Wednesday      Larceny Theft       NaN   \n",
       "4  2023/03/13 11:26:00 AM               Monday      Larceny Theft       NaN   \n",
       "\n",
       "   Longitude Police District  \n",
       "0        NaN         Mission  \n",
       "1        NaN       Out of SF  \n",
       "2        NaN       Out of SF  \n",
       "3        NaN         Mission  \n",
       "4        NaN         Central  "
      ]
     },
     "execution_count": 21,
     "metadata": {},
     "output_type": "execute_result"
    }
   ],
   "source": [
    "df2.head()"
   ]
  },
  {
   "cell_type": "code",
   "execution_count": 22,
   "id": "88f0cfe8-3eb4-4191-a5dd-64e6d706ac7f",
   "metadata": {},
   "outputs": [
    {
     "name": "stdout",
     "output_type": "stream",
     "text": [
      "<class 'pandas.core.frame.DataFrame'>\n",
      "RangeIndex: 2129525 entries, 0 to 2129524\n",
      "Data columns (total 7 columns):\n",
      " #   Column      Dtype  \n",
      "---  ------      -----  \n",
      " 0   Date        object \n",
      " 1   Time        object \n",
      " 2   Category    object \n",
      " 3   DayOfWeek   object \n",
      " 4   X           float64\n",
      " 5   Y           float64\n",
      " 6   PdDistrict  object \n",
      "dtypes: float64(2), object(5)\n",
      "memory usage: 113.7+ MB\n"
     ]
    }
   ],
   "source": [
    "df1.info()"
   ]
  },
  {
   "cell_type": "code",
   "execution_count": 23,
   "id": "854f49e6-778b-4dd4-b597-df4224b3df4c",
   "metadata": {},
   "outputs": [
    {
     "name": "stdout",
     "output_type": "stream",
     "text": [
      "<class 'pandas.core.frame.DataFrame'>\n",
      "RangeIndex: 928755 entries, 0 to 928754\n",
      "Data columns (total 6 columns):\n",
      " #   Column                Non-Null Count   Dtype  \n",
      "---  ------                --------------   -----  \n",
      " 0   Incident Datetime     928755 non-null  object \n",
      " 1   Incident Day of Week  928755 non-null  object \n",
      " 2   Incident Category     927717 non-null  object \n",
      " 3   Latitude              877793 non-null  float64\n",
      " 4   Longitude             877793 non-null  float64\n",
      " 5   Police District       928755 non-null  object \n",
      "dtypes: float64(2), object(4)\n",
      "memory usage: 42.5+ MB\n"
     ]
    }
   ],
   "source": [
    "df2.info()"
   ]
  },
  {
   "cell_type": "code",
   "execution_count": 24,
   "id": "ed9b4c2e-ca0e-4622-b843-6349b4a6ba63",
   "metadata": {},
   "outputs": [],
   "source": [
    "#focuscrimes = set(['WEAPON LAWS', 'PROSTITUTION', 'ROBBERY', 'BURGLARY', 'ASSAULT', 'DRUNKENNESS', 'DRUG/NARCOTIC', 'TRESPASS', 'LARCENY/THEFT', 'VANDALISM', 'VEHICLE THEFT', 'STOLEN PROPERTY'])\n"
   ]
  },
  {
   "cell_type": "code",
   "execution_count": 25,
   "id": "cc3ad9d4-80ee-4ca4-ba99-2206571876f9",
   "metadata": {},
   "outputs": [
    {
     "name": "stderr",
     "output_type": "stream",
     "text": [
      "C:\\Users\\45502\\AppData\\Local\\Temp\\ipykernel_33252\\1623881309.py:31: SettingWithCopyWarning: \n",
      "A value is trying to be set on a copy of a slice from a DataFrame.\n",
      "Try using .loc[row_indexer,col_indexer] = value instead\n",
      "\n",
      "See the caveats in the documentation: https://pandas.pydata.org/pandas-docs/stable/user_guide/indexing.html#returning-a-view-versus-a-copy\n",
      "  df2['Incident Category'] = df2['Incident Category'].replace(category_mapping)\n"
     ]
    }
   ],
   "source": [
    "# Two datasets have different text values (names) for the crime categories\n",
    "# This will create a problem for effective concatenate\n",
    "# Category names should match (at least for the focus crimes)\n",
    "# Define the mapping dictionary using your logical reasoning, here is the example below:\n",
    "category_mapping = {\n",
    "    # Focus crimes\n",
    "    'Robbery': 'ROBBERY',\n",
    "    'Burglary': 'BURGLARY',\n",
    "    'Assault': 'ASSAULT',\n",
    "    'Drug Violation': 'DRUG/NARCOTIC',\n",
    "    'Drug Offense': 'DRUG/NARCOTIC',\n",
    "    'Larceny Theft': 'LARCENY/THEFT',\n",
    "    'Vandalism': 'VANDALISM',\n",
    "    'Malicious Mischief': 'VANDALISM',  \n",
    "    'Motor Vehicle Theft': 'VEHICLE THEFT',\n",
    "    'Motor Vehicle Theft?': 'VEHICLE THEFT',\n",
    "    'Stolen Property': 'STOLEN PROPERTY',\n",
    "    'Disorderly Conduct': 'DISORDERLY CONDUCT',\n",
    "    'Weapons Carrying Etc': 'WEAPON LAWS',\n",
    "    'Weapons Offense': 'WEAPON LAWS',\n",
    "    'Weapons Offence': 'WEAPON LAWS',\n",
    "    'Prostitution': 'PROSTITUTION',\n",
    "    # Additional mappings for edge cases\n",
    "    'Traffic Violation Arrest': 'DRIVING UNDER THE INFLUENCE',  # If DUI is included here \n",
    "    'Suspicious Occ': 'TRESPASS',\n",
    "    'Suspicious': 'TRESPASS',\n",
    "    'Liquor Laws': 'DRUNKENNESS'  # If liquor law violations include public drunkenness \n",
    "}\n",
    "\n",
    "# Apply the mapping to df2's \"Incident Category\"\n",
    "df2['Incident Category'] = df2['Incident Category'].replace(category_mapping)\n",
    "\n",
    "# Optional: Drop unmapped categories or keep them under 'OTHER OFFENSES'\n",
    "# df2['Incident Category'] = df2['Incident Category'].apply(lambda x: x if x in focus_crimes else 'OTHER OFFENSES')"
   ]
  },
  {
   "cell_type": "code",
   "execution_count": 26,
   "id": "b9c33077-a016-4667-9eae-a3b2716f6f7b",
   "metadata": {},
   "outputs": [
    {
     "name": "stdout",
     "output_type": "stream",
     "text": [
      "['LARCENY/THEFT' 'Recovered Vehicle' 'Lost Property' 'DRUG/NARCOTIC'\n",
      " 'ASSAULT' 'VANDALISM' 'Non-Criminal' 'Fraud' 'Warrant' 'Other Offenses'\n",
      " 'ROBBERY' 'Case Closure' 'STOLEN PROPERTY' 'Other Miscellaneous' 'Other'\n",
      " 'Traffic Collision' 'TRESPASS' 'DISORDERLY CONDUCT' 'WEAPON LAWS' 'Rape'\n",
      " 'Missing Person' 'VEHICLE THEFT' 'BURGLARY' 'Fire Report' 'Arson'\n",
      " 'Suicide' 'DRIVING UNDER THE INFLUENCE' 'Courtesy Report'\n",
      " 'Offences Against The Family And Children' 'Forgery And Counterfeiting'\n",
      " 'Sex Offense' 'PROSTITUTION' 'Miscellaneous Investigation'\n",
      " 'Vehicle Misplaced' nan 'Embezzlement' 'Vehicle Impounded'\n",
      " 'Civil Sidewalks' 'Homicide' 'DRUNKENNESS'\n",
      " 'Human Trafficking (A), Commercial Sex Acts'\n",
      " 'Human Trafficking, Commercial Sex Acts' 'Gambling'\n",
      " 'Human Trafficking (B), Involuntary Servitude']\n"
     ]
    }
   ],
   "source": [
    "print(df2['Incident Category'].unique())\n"
   ]
  },
  {
   "cell_type": "code",
   "execution_count": 27,
   "id": "1ac4c135-8a21-467a-b4f1-40eaa354f4b3",
   "metadata": {},
   "outputs": [],
   "source": [
    "focus_crimes = [\n",
    "    'WEAPON LAWS', 'PROSTITUTION', 'ROBBERY', 'BURGLARY', 'ASSAULT', 'DRUNKENNESS', 'DRUG/NARCOTIC', \n",
    "    'TRESPASS', 'LARCENY/THEFT', 'VANDALISM', 'VEHICLE THEFT', 'STOLEN PROPERTY']"
   ]
  },
  {
   "cell_type": "code",
   "execution_count": 28,
   "id": "8d456185-859e-4163-ab2f-805f2afe8a3c",
   "metadata": {},
   "outputs": [],
   "source": [
    "df1_filtered = df1[df1['Category'].isin(focus_crimes)] # Filter the rows for the non-focused crime categories"
   ]
  },
  {
   "cell_type": "code",
   "execution_count": 29,
   "id": "c87042bf-a5c7-461c-b9c0-70c7ae69f263",
   "metadata": {},
   "outputs": [
    {
     "name": "stdout",
     "output_type": "stream",
     "text": [
      "['ROBBERY' 'VEHICLE THEFT' 'ASSAULT' 'TRESPASS' 'BURGLARY' 'LARCENY/THEFT'\n",
      " 'DRUG/NARCOTIC' 'VANDALISM' 'WEAPON LAWS' 'PROSTITUTION' 'DRUNKENNESS'\n",
      " 'STOLEN PROPERTY']\n"
     ]
    }
   ],
   "source": [
    "print(df1_filtered['Category'].unique())"
   ]
  },
  {
   "cell_type": "code",
   "execution_count": 30,
   "id": "d0ff276f-9102-4dcd-96ad-6b91668440a4",
   "metadata": {},
   "outputs": [],
   "source": [
    "df2_filtered = df2[df2['Incident Category'].isin(focus_crimes)] # Filter the rows for the non-focused crime categories"
   ]
  },
  {
   "cell_type": "code",
   "execution_count": 31,
   "id": "5b7f693d-a251-4242-9940-22a873e1c36d",
   "metadata": {},
   "outputs": [
    {
     "name": "stdout",
     "output_type": "stream",
     "text": [
      "['LARCENY/THEFT' 'DRUG/NARCOTIC' 'ASSAULT' 'VANDALISM' 'ROBBERY'\n",
      " 'STOLEN PROPERTY' 'TRESPASS' 'WEAPON LAWS' 'VEHICLE THEFT' 'BURGLARY'\n",
      " 'PROSTITUTION' 'DRUNKENNESS']\n"
     ]
    }
   ],
   "source": [
    "print(df2_filtered['Incident Category'].unique())"
   ]
  },
  {
   "cell_type": "code",
   "execution_count": 32,
   "id": "3db7c88e-bea3-45a3-b378-42f3dce0769e",
   "metadata": {},
   "outputs": [],
   "source": [
    "# Parsing the date and time\n",
    "df1_filtered = pd.DataFrame(df1_filtered)\n",
    "\n",
    "# Convert \"Date\" column to datetime format\n",
    "df1_filtered[\"Date\"] = pd.to_datetime(df1_filtered[\"Date\"], format=\"%m/%d/%Y\")\n",
    "\n",
    "# Create new columns from \"Date\"\n",
    "df1_filtered[\"DayOfMonth\"] = df1_filtered[\"Date\"].dt.day\n",
    "df1_filtered[\"Month\"] = df1_filtered[\"Date\"].dt.strftime(\"%B\")  # Month name\n",
    "df1_filtered[\"Year\"] = df1_filtered[\"Date\"].dt.year\n",
    "\n",
    "# Extract the hour from the \"Time\" column to create \"TimeOfDay\"\n",
    "df1_filtered[\"TimeOfDay\"] = pd.to_datetime(df1_filtered[\"Time\"], format=\"%H:%M\").dt.hour\n"
   ]
  },
  {
   "cell_type": "code",
   "execution_count": 33,
   "id": "6cccd53b-3fca-4c91-8f4f-d083f2b8be0f",
   "metadata": {},
   "outputs": [],
   "source": [
    "df1_filtered = df1_filtered.rename(columns={\"X\": \"Longitude\", \"Y\": \"Latitude\"})"
   ]
  },
  {
   "cell_type": "code",
   "execution_count": 34,
   "id": "2e7af50b-8a6a-4d64-a582-da2c5c052899",
   "metadata": {},
   "outputs": [],
   "source": [
    "df1_filtered = df1_filtered.drop(columns=[\"Date\", \"Time\"])"
   ]
  },
  {
   "cell_type": "code",
   "execution_count": 35,
   "id": "d3bb60a7-6358-4706-a2c3-976e4d5da3b6",
   "metadata": {},
   "outputs": [
    {
     "data": {
      "text/html": [
       "<div>\n",
       "<style scoped>\n",
       "    .dataframe tbody tr th:only-of-type {\n",
       "        vertical-align: middle;\n",
       "    }\n",
       "\n",
       "    .dataframe tbody tr th {\n",
       "        vertical-align: top;\n",
       "    }\n",
       "\n",
       "    .dataframe thead th {\n",
       "        text-align: right;\n",
       "    }\n",
       "</style>\n",
       "<table border=\"1\" class=\"dataframe\">\n",
       "  <thead>\n",
       "    <tr style=\"text-align: right;\">\n",
       "      <th></th>\n",
       "      <th>Category</th>\n",
       "      <th>DayOfWeek</th>\n",
       "      <th>Longitude</th>\n",
       "      <th>Latitude</th>\n",
       "      <th>PdDistrict</th>\n",
       "      <th>DayOfMonth</th>\n",
       "      <th>Month</th>\n",
       "      <th>Year</th>\n",
       "      <th>TimeOfDay</th>\n",
       "    </tr>\n",
       "  </thead>\n",
       "  <tbody>\n",
       "    <tr>\n",
       "      <th>0</th>\n",
       "      <td>ROBBERY</td>\n",
       "      <td>Monday</td>\n",
       "      <td>-122.420084</td>\n",
       "      <td>37.708311</td>\n",
       "      <td>INGLESIDE</td>\n",
       "      <td>22</td>\n",
       "      <td>November</td>\n",
       "      <td>2004</td>\n",
       "      <td>17</td>\n",
       "    </tr>\n",
       "    <tr>\n",
       "      <th>1</th>\n",
       "      <td>VEHICLE THEFT</td>\n",
       "      <td>Tuesday</td>\n",
       "      <td>-120.500000</td>\n",
       "      <td>90.000000</td>\n",
       "      <td>PARK</td>\n",
       "      <td>18</td>\n",
       "      <td>October</td>\n",
       "      <td>2005</td>\n",
       "      <td>20</td>\n",
       "    </tr>\n",
       "    <tr>\n",
       "      <th>2</th>\n",
       "      <td>VEHICLE THEFT</td>\n",
       "      <td>Sunday</td>\n",
       "      <td>-120.500000</td>\n",
       "      <td>90.000000</td>\n",
       "      <td>SOUTHERN</td>\n",
       "      <td>15</td>\n",
       "      <td>February</td>\n",
       "      <td>2004</td>\n",
       "      <td>2</td>\n",
       "    </tr>\n",
       "    <tr>\n",
       "      <th>4</th>\n",
       "      <td>ASSAULT</td>\n",
       "      <td>Sunday</td>\n",
       "      <td>-122.410541</td>\n",
       "      <td>37.770913</td>\n",
       "      <td>SOUTHERN</td>\n",
       "      <td>21</td>\n",
       "      <td>November</td>\n",
       "      <td>2010</td>\n",
       "      <td>17</td>\n",
       "    </tr>\n",
       "    <tr>\n",
       "      <th>5</th>\n",
       "      <td>ASSAULT</td>\n",
       "      <td>Tuesday</td>\n",
       "      <td>-122.470366</td>\n",
       "      <td>37.745158</td>\n",
       "      <td>TARAVAL</td>\n",
       "      <td>2</td>\n",
       "      <td>April</td>\n",
       "      <td>2013</td>\n",
       "      <td>15</td>\n",
       "    </tr>\n",
       "  </tbody>\n",
       "</table>\n",
       "</div>"
      ],
      "text/plain": [
       "        Category DayOfWeek   Longitude   Latitude PdDistrict  DayOfMonth  \\\n",
       "0        ROBBERY    Monday -122.420084  37.708311  INGLESIDE          22   \n",
       "1  VEHICLE THEFT   Tuesday -120.500000  90.000000       PARK          18   \n",
       "2  VEHICLE THEFT    Sunday -120.500000  90.000000   SOUTHERN          15   \n",
       "4        ASSAULT    Sunday -122.410541  37.770913   SOUTHERN          21   \n",
       "5        ASSAULT   Tuesday -122.470366  37.745158    TARAVAL           2   \n",
       "\n",
       "      Month  Year  TimeOfDay  \n",
       "0  November  2004         17  \n",
       "1   October  2005         20  \n",
       "2  February  2004          2  \n",
       "4  November  2010         17  \n",
       "5     April  2013         15  "
      ]
     },
     "execution_count": 35,
     "metadata": {},
     "output_type": "execute_result"
    }
   ],
   "source": [
    "df1_filtered.head()"
   ]
  },
  {
   "cell_type": "code",
   "execution_count": 36,
   "id": "e5361e39-bcfb-4659-8e44-b1164ca7ad90",
   "metadata": {},
   "outputs": [],
   "source": [
    "# Parsing the date and time\n",
    "df2_filtered = pd.DataFrame(df2_filtered)\n",
    "\n",
    "# Convert \"Incident Datetime\" to a datetime format\n",
    "df2_filtered[\"Incident Datetime\"] = pd.to_datetime(df2_filtered[\"Incident Datetime\"], format=\"%Y/%m/%d %I:%M:%S %p\")\n",
    "\n",
    "# Create new columns from \"Incident Datetime\"\n",
    "df2_filtered[\"DayOfMonth\"] = df2_filtered[\"Incident Datetime\"].dt.day\n",
    "df2_filtered[\"Month\"] = df2_filtered[\"Incident Datetime\"].dt.strftime(\"%B\")  # Month name\n",
    "df2_filtered[\"Year\"] = df2_filtered[\"Incident Datetime\"].dt.year\n",
    "df2_filtered[\"TimeOfDay\"] = df2_filtered[\"Incident Datetime\"].dt.hour"
   ]
  },
  {
   "cell_type": "code",
   "execution_count": 37,
   "id": "68fc2fcd-82e2-4558-b795-a3177bb2fb3d",
   "metadata": {},
   "outputs": [],
   "source": [
    "# Rename the features so that both datasets' headings should match\n",
    "df2_filtered = df2_filtered.rename(columns={\"Incident Category\": \"Category\", \"Incident Day of Week\": \"DayOfWeek\"})"
   ]
  },
  {
   "cell_type": "code",
   "execution_count": 38,
   "id": "fa0a1161-eab1-4f5f-9c29-245c537c010f",
   "metadata": {},
   "outputs": [],
   "source": [
    "df2_filtered = df2_filtered.drop(columns=[\"Incident Datetime\"])"
   ]
  },
  {
   "cell_type": "code",
   "execution_count": 39,
   "id": "8ae82365-4310-45fd-8fa8-d3e2eebef675",
   "metadata": {},
   "outputs": [],
   "source": [
    "df2_filtered = df2_filtered.rename(columns={\"Police District\": \"PdDistrict\"})"
   ]
  },
  {
   "cell_type": "code",
   "execution_count": 40,
   "id": "62861a38-8872-49f6-8aba-611f13259800",
   "metadata": {},
   "outputs": [
    {
     "name": "stdout",
     "output_type": "stream",
     "text": [
      "<class 'pandas.core.frame.DataFrame'>\n",
      "Index: 581998 entries, 0 to 928752\n",
      "Data columns (total 9 columns):\n",
      " #   Column      Non-Null Count   Dtype  \n",
      "---  ------      --------------   -----  \n",
      " 0   DayOfWeek   581998 non-null  object \n",
      " 1   Category    581998 non-null  object \n",
      " 2   Latitude    551832 non-null  float64\n",
      " 3   Longitude   551832 non-null  float64\n",
      " 4   PdDistrict  581998 non-null  object \n",
      " 5   DayOfMonth  581998 non-null  int32  \n",
      " 6   Month       581998 non-null  object \n",
      " 7   Year        581998 non-null  int32  \n",
      " 8   TimeOfDay   581998 non-null  int32  \n",
      "dtypes: float64(2), int32(3), object(4)\n",
      "memory usage: 37.7+ MB\n"
     ]
    }
   ],
   "source": [
    "df2_filtered.info()"
   ]
  },
  {
   "cell_type": "code",
   "execution_count": 41,
   "id": "c57770f0-af14-45af-a44b-11303de4dda2",
   "metadata": {},
   "outputs": [],
   "source": [
    "df1_filtered = df1_filtered.dropna(subset=[\"Latitude\", \"Longitude\",\"Category\",\"PdDistrict\"]) # Get rid of missing values"
   ]
  },
  {
   "cell_type": "code",
   "execution_count": 42,
   "id": "cdcf4b0e-d8e3-4294-931b-9ae6d6dba179",
   "metadata": {},
   "outputs": [],
   "source": [
    "df2_filtered = df2_filtered.dropna(subset=[\"Latitude\", \"Longitude\",\"Category\",\"PdDistrict\"]) # Get rid of missing values"
   ]
  },
  {
   "cell_type": "code",
   "execution_count": 43,
   "id": "b963c010-c541-4d30-863f-fa83ddceea51",
   "metadata": {},
   "outputs": [],
   "source": [
    "df2_filtered = df2_filtered[df2_filtered['PdDistrict'] != 'Out of SF'] # this value is only available in 2nd dataset so we remove it"
   ]
  },
  {
   "cell_type": "code",
   "execution_count": 44,
   "id": "6d451be9-3f4c-4726-aec1-70b052f2e2ca",
   "metadata": {},
   "outputs": [
    {
     "name": "stdout",
     "output_type": "stream",
     "text": [
      "['INGLESIDE' 'PARK' 'SOUTHERN' 'TARAVAL' 'TENDERLOIN' 'BAYVIEW' 'CENTRAL'\n",
      " 'NORTHERN' 'MISSION' 'RICHMOND']\n"
     ]
    }
   ],
   "source": [
    "print(df1_filtered['PdDistrict'].unique())"
   ]
  },
  {
   "cell_type": "code",
   "execution_count": 45,
   "id": "451ff6cf-1519-46e6-bc6f-8a94ab840769",
   "metadata": {},
   "outputs": [
    {
     "name": "stdout",
     "output_type": "stream",
     "text": [
      "['Bayview' 'Mission' 'Northern' 'Central' 'Richmond' 'Ingleside'\n",
      " 'Southern' 'Park' 'Taraval' 'Tenderloin']\n"
     ]
    }
   ],
   "source": [
    "print(df2_filtered['PdDistrict'].unique())"
   ]
  },
  {
   "cell_type": "code",
   "execution_count": 46,
   "id": "32b818f2-6f9b-4ed0-a4e5-c5d687040ecb",
   "metadata": {},
   "outputs": [],
   "source": [
    "pd_mapping = {\n",
    "    # PdDistrict text values should match in both datasets\n",
    "    'Bayview': 'BAYVIEW',\n",
    "    'Mission': 'MISSION',\n",
    "    'Northern': 'NORTHERN',\n",
    "    'Central': 'CENTRAL',\n",
    "    'Richmond': 'RICHMOND',\n",
    "    'Ingleside': 'INGLESIDE',\n",
    "    'Southern': 'SOUTHERN',\n",
    "    'Park': 'PARK',  \n",
    "    'Taraval': 'TARAVAL',\n",
    "    'Tenderloin': 'TENDERLOIN',\n",
    "}\n",
    "\n",
    "# Apply the mapping to df2's \"PdDistrict\"\n",
    "df2_filtered['PdDistrict'] = df2_filtered['PdDistrict'].replace(pd_mapping)"
   ]
  },
  {
   "cell_type": "code",
   "execution_count": 47,
   "id": "fbbcb783-c143-4592-a53b-f52073e7ace0",
   "metadata": {
    "scrolled": true
   },
   "outputs": [
    {
     "data": {
      "text/html": [
       "<div>\n",
       "<style scoped>\n",
       "    .dataframe tbody tr th:only-of-type {\n",
       "        vertical-align: middle;\n",
       "    }\n",
       "\n",
       "    .dataframe tbody tr th {\n",
       "        vertical-align: top;\n",
       "    }\n",
       "\n",
       "    .dataframe thead th {\n",
       "        text-align: right;\n",
       "    }\n",
       "</style>\n",
       "<table border=\"1\" class=\"dataframe\">\n",
       "  <thead>\n",
       "    <tr style=\"text-align: right;\">\n",
       "      <th></th>\n",
       "      <th>DayOfWeek</th>\n",
       "      <th>Category</th>\n",
       "      <th>Latitude</th>\n",
       "      <th>Longitude</th>\n",
       "      <th>PdDistrict</th>\n",
       "      <th>DayOfMonth</th>\n",
       "      <th>Month</th>\n",
       "      <th>Year</th>\n",
       "      <th>TimeOfDay</th>\n",
       "    </tr>\n",
       "  </thead>\n",
       "  <tbody>\n",
       "    <tr>\n",
       "      <th>9</th>\n",
       "      <td>Thursday</td>\n",
       "      <td>ASSAULT</td>\n",
       "      <td>37.762290</td>\n",
       "      <td>-122.401324</td>\n",
       "      <td>BAYVIEW</td>\n",
       "      <td>16</td>\n",
       "      <td>March</td>\n",
       "      <td>2023</td>\n",
       "      <td>17</td>\n",
       "    </tr>\n",
       "    <tr>\n",
       "      <th>191</th>\n",
       "      <td>Wednesday</td>\n",
       "      <td>ASSAULT</td>\n",
       "      <td>37.753837</td>\n",
       "      <td>-122.418594</td>\n",
       "      <td>MISSION</td>\n",
       "      <td>7</td>\n",
       "      <td>July</td>\n",
       "      <td>2021</td>\n",
       "      <td>8</td>\n",
       "    </tr>\n",
       "    <tr>\n",
       "      <th>204</th>\n",
       "      <td>Friday</td>\n",
       "      <td>ASSAULT</td>\n",
       "      <td>37.785893</td>\n",
       "      <td>-122.419739</td>\n",
       "      <td>NORTHERN</td>\n",
       "      <td>4</td>\n",
       "      <td>June</td>\n",
       "      <td>2021</td>\n",
       "      <td>9</td>\n",
       "    </tr>\n",
       "    <tr>\n",
       "      <th>240</th>\n",
       "      <td>Thursday</td>\n",
       "      <td>TRESPASS</td>\n",
       "      <td>37.794666</td>\n",
       "      <td>-122.403139</td>\n",
       "      <td>CENTRAL</td>\n",
       "      <td>14</td>\n",
       "      <td>October</td>\n",
       "      <td>2021</td>\n",
       "      <td>11</td>\n",
       "    </tr>\n",
       "    <tr>\n",
       "      <th>279</th>\n",
       "      <td>Thursday</td>\n",
       "      <td>ASSAULT</td>\n",
       "      <td>37.800943</td>\n",
       "      <td>-122.407645</td>\n",
       "      <td>CENTRAL</td>\n",
       "      <td>8</td>\n",
       "      <td>July</td>\n",
       "      <td>2021</td>\n",
       "      <td>23</td>\n",
       "    </tr>\n",
       "  </tbody>\n",
       "</table>\n",
       "</div>"
      ],
      "text/plain": [
       "     DayOfWeek  Category   Latitude   Longitude PdDistrict  DayOfMonth  \\\n",
       "9     Thursday   ASSAULT  37.762290 -122.401324    BAYVIEW          16   \n",
       "191  Wednesday   ASSAULT  37.753837 -122.418594    MISSION           7   \n",
       "204     Friday   ASSAULT  37.785893 -122.419739   NORTHERN           4   \n",
       "240   Thursday  TRESPASS  37.794666 -122.403139    CENTRAL          14   \n",
       "279   Thursday   ASSAULT  37.800943 -122.407645    CENTRAL           8   \n",
       "\n",
       "       Month  Year  TimeOfDay  \n",
       "9      March  2023         17  \n",
       "191     July  2021          8  \n",
       "204     June  2021          9  \n",
       "240  October  2021         11  \n",
       "279     July  2021         23  "
      ]
     },
     "execution_count": 47,
     "metadata": {},
     "output_type": "execute_result"
    }
   ],
   "source": [
    "df2_filtered.head()"
   ]
  },
  {
   "cell_type": "code",
   "execution_count": 57,
   "id": "ed8367b0-ae7b-4d6e-9b83-748266e69e78",
   "metadata": {},
   "outputs": [],
   "source": [
    "# Ensure that both DataFrames have the same columns in the same order\n",
    "df1_filtered = df1_filtered[['Category', 'PdDistrict', 'Longitude', 'Latitude', 'TimeOfDay', 'DayOfWeek', 'DayOfMonth', 'Month', 'Year']]\n",
    "df2_filtered = df2_filtered[['Category', 'PdDistrict', 'Longitude', 'Latitude', 'TimeOfDay', 'DayOfWeek', 'DayOfMonth', 'Month', 'Year']]"
   ]
  },
  {
   "cell_type": "code",
   "execution_count": 59,
   "id": "51a8f2b1-5c55-4fa2-b8ad-c0564e1b2acc",
   "metadata": {},
   "outputs": [],
   "source": [
    "merged_data = pd.concat([df1_filtered, df2_filtered], axis=0, ignore_index=True) # Perform concat"
   ]
  },
  {
   "cell_type": "code",
   "execution_count": 61,
   "id": "4fab859b-2e73-41ed-a1d8-486bae4fd848",
   "metadata": {},
   "outputs": [
    {
     "data": {
      "text/html": [
       "<div>\n",
       "<style scoped>\n",
       "    .dataframe tbody tr th:only-of-type {\n",
       "        vertical-align: middle;\n",
       "    }\n",
       "\n",
       "    .dataframe tbody tr th {\n",
       "        vertical-align: top;\n",
       "    }\n",
       "\n",
       "    .dataframe thead th {\n",
       "        text-align: right;\n",
       "    }\n",
       "</style>\n",
       "<table border=\"1\" class=\"dataframe\">\n",
       "  <thead>\n",
       "    <tr style=\"text-align: right;\">\n",
       "      <th></th>\n",
       "      <th>Category</th>\n",
       "      <th>PdDistrict</th>\n",
       "      <th>Longitude</th>\n",
       "      <th>Latitude</th>\n",
       "      <th>TimeOfDay</th>\n",
       "      <th>DayOfWeek</th>\n",
       "      <th>DayOfMonth</th>\n",
       "      <th>Month</th>\n",
       "      <th>Year</th>\n",
       "    </tr>\n",
       "  </thead>\n",
       "  <tbody>\n",
       "    <tr>\n",
       "      <th>0</th>\n",
       "      <td>ROBBERY</td>\n",
       "      <td>INGLESIDE</td>\n",
       "      <td>-122.420084</td>\n",
       "      <td>37.708311</td>\n",
       "      <td>17</td>\n",
       "      <td>Monday</td>\n",
       "      <td>22</td>\n",
       "      <td>November</td>\n",
       "      <td>2004</td>\n",
       "    </tr>\n",
       "    <tr>\n",
       "      <th>1</th>\n",
       "      <td>VEHICLE THEFT</td>\n",
       "      <td>PARK</td>\n",
       "      <td>-120.500000</td>\n",
       "      <td>90.000000</td>\n",
       "      <td>20</td>\n",
       "      <td>Tuesday</td>\n",
       "      <td>18</td>\n",
       "      <td>October</td>\n",
       "      <td>2005</td>\n",
       "    </tr>\n",
       "    <tr>\n",
       "      <th>2</th>\n",
       "      <td>VEHICLE THEFT</td>\n",
       "      <td>SOUTHERN</td>\n",
       "      <td>-120.500000</td>\n",
       "      <td>90.000000</td>\n",
       "      <td>2</td>\n",
       "      <td>Sunday</td>\n",
       "      <td>15</td>\n",
       "      <td>February</td>\n",
       "      <td>2004</td>\n",
       "    </tr>\n",
       "    <tr>\n",
       "      <th>3</th>\n",
       "      <td>ASSAULT</td>\n",
       "      <td>SOUTHERN</td>\n",
       "      <td>-122.410541</td>\n",
       "      <td>37.770913</td>\n",
       "      <td>17</td>\n",
       "      <td>Sunday</td>\n",
       "      <td>21</td>\n",
       "      <td>November</td>\n",
       "      <td>2010</td>\n",
       "    </tr>\n",
       "    <tr>\n",
       "      <th>4</th>\n",
       "      <td>ASSAULT</td>\n",
       "      <td>TARAVAL</td>\n",
       "      <td>-122.470366</td>\n",
       "      <td>37.745158</td>\n",
       "      <td>15</td>\n",
       "      <td>Tuesday</td>\n",
       "      <td>2</td>\n",
       "      <td>April</td>\n",
       "      <td>2013</td>\n",
       "    </tr>\n",
       "  </tbody>\n",
       "</table>\n",
       "</div>"
      ],
      "text/plain": [
       "        Category PdDistrict   Longitude   Latitude  TimeOfDay DayOfWeek  \\\n",
       "0        ROBBERY  INGLESIDE -122.420084  37.708311         17    Monday   \n",
       "1  VEHICLE THEFT       PARK -120.500000  90.000000         20   Tuesday   \n",
       "2  VEHICLE THEFT   SOUTHERN -120.500000  90.000000          2    Sunday   \n",
       "3        ASSAULT   SOUTHERN -122.410541  37.770913         17    Sunday   \n",
       "4        ASSAULT    TARAVAL -122.470366  37.745158         15   Tuesday   \n",
       "\n",
       "   DayOfMonth     Month  Year  \n",
       "0          22  November  2004  \n",
       "1          18   October  2005  \n",
       "2          15  February  2004  \n",
       "3          21  November  2010  \n",
       "4           2     April  2013  "
      ]
     },
     "execution_count": 61,
     "metadata": {},
     "output_type": "execute_result"
    }
   ],
   "source": [
    "merged_data.head()"
   ]
  },
  {
   "cell_type": "code",
   "execution_count": 63,
   "id": "da671465-ef1d-4aaa-87a1-6605fbe18a05",
   "metadata": {},
   "outputs": [
    {
     "name": "stdout",
     "output_type": "stream",
     "text": [
      "<class 'pandas.core.frame.DataFrame'>\n",
      "Index: 1227226 entries, 0 to 2129524\n",
      "Data columns (total 9 columns):\n",
      " #   Column      Non-Null Count    Dtype  \n",
      "---  ------      --------------    -----  \n",
      " 0   Category    1227226 non-null  object \n",
      " 1   PdDistrict  1227226 non-null  object \n",
      " 2   Longitude   1227226 non-null  float64\n",
      " 3   Latitude    1227226 non-null  float64\n",
      " 4   TimeOfDay   1227226 non-null  int32  \n",
      " 5   DayOfWeek   1227226 non-null  object \n",
      " 6   DayOfMonth  1227226 non-null  int32  \n",
      " 7   Month       1227226 non-null  object \n",
      " 8   Year        1227226 non-null  int32  \n",
      "dtypes: float64(2), int32(3), object(4)\n",
      "memory usage: 79.6+ MB\n"
     ]
    }
   ],
   "source": [
    "df1_filtered.info()"
   ]
  },
  {
   "cell_type": "code",
   "execution_count": 65,
   "id": "9853d6a6-3b5a-4d2f-bbe8-3ff5ccd5ec42",
   "metadata": {},
   "outputs": [
    {
     "name": "stdout",
     "output_type": "stream",
     "text": [
      "<class 'pandas.core.frame.DataFrame'>\n",
      "Index: 549576 entries, 9 to 928752\n",
      "Data columns (total 9 columns):\n",
      " #   Column      Non-Null Count   Dtype  \n",
      "---  ------      --------------   -----  \n",
      " 0   Category    549576 non-null  object \n",
      " 1   PdDistrict  549576 non-null  object \n",
      " 2   Longitude   549576 non-null  float64\n",
      " 3   Latitude    549576 non-null  float64\n",
      " 4   TimeOfDay   549576 non-null  int32  \n",
      " 5   DayOfWeek   549576 non-null  object \n",
      " 6   DayOfMonth  549576 non-null  int32  \n",
      " 7   Month       549576 non-null  object \n",
      " 8   Year        549576 non-null  int32  \n",
      "dtypes: float64(2), int32(3), object(4)\n",
      "memory usage: 35.6+ MB\n"
     ]
    }
   ],
   "source": [
    "df2_filtered.info()"
   ]
  },
  {
   "cell_type": "code",
   "execution_count": 67,
   "id": "437053b4-3245-4bcd-a244-5f5376b91166",
   "metadata": {},
   "outputs": [
    {
     "name": "stdout",
     "output_type": "stream",
     "text": [
      "<class 'pandas.core.frame.DataFrame'>\n",
      "RangeIndex: 1776802 entries, 0 to 1776801\n",
      "Data columns (total 9 columns):\n",
      " #   Column      Dtype  \n",
      "---  ------      -----  \n",
      " 0   Category    object \n",
      " 1   PdDistrict  object \n",
      " 2   Longitude   float64\n",
      " 3   Latitude    float64\n",
      " 4   TimeOfDay   int32  \n",
      " 5   DayOfWeek   object \n",
      " 6   DayOfMonth  int32  \n",
      " 7   Month       object \n",
      " 8   Year        int32  \n",
      "dtypes: float64(2), int32(3), object(4)\n",
      "memory usage: 101.7+ MB\n"
     ]
    }
   ],
   "source": [
    "merged_data.info()"
   ]
  },
  {
   "cell_type": "code",
   "execution_count": 69,
   "id": "72780ea6-9714-47fa-bbf3-2089360df1c3",
   "metadata": {},
   "outputs": [
    {
     "name": "stdout",
     "output_type": "stream",
     "text": [
      "[2004 2005 2010 2013 2017 2016 2006 2009 2012 2003 2007 2008 2011 2015\n",
      " 2014 2018 2023 2021 2022 2020 2024 2025 2019]\n"
     ]
    }
   ],
   "source": [
    "print(merged_data['Year'].unique())"
   ]
  },
  {
   "cell_type": "code",
   "execution_count": 73,
   "id": "4dc9ac12-2e0e-4c0f-a2c5-1ad7c4a14383",
   "metadata": {},
   "outputs": [],
   "source": [
    "# Save the merged DataFrame to a CSV file\n",
    "merged_data.to_csv(\"merged_data.csv\", index=False)"
   ]
  },
  {
   "cell_type": "code",
   "execution_count": null,
   "id": "702c5429-500c-40ae-9edc-162eec89fe3d",
   "metadata": {},
   "outputs": [],
   "source": []
  }
 ],
 "metadata": {
  "kernelspec": {
   "display_name": "social-datavis",
   "language": "python",
   "name": "python3"
  },
  "language_info": {
   "codemirror_mode": {
    "name": "ipython",
    "version": 3
   },
   "file_extension": ".py",
   "mimetype": "text/x-python",
   "name": "python",
   "nbconvert_exporter": "python",
   "pygments_lexer": "ipython3",
   "version": "3.13.1"
  }
 },
 "nbformat": 4,
 "nbformat_minor": 5
}
